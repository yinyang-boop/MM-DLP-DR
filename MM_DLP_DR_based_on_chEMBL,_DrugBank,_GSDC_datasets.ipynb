{
  "nbformat": 4,
  "nbformat_minor": 0,
  "metadata": {
    "colab": {
      "provenance": [],
      "gpuType": "T4",
      "authorship_tag": "ABX9TyPD8g3q3KRlTekpNHwagnuc",
      "include_colab_link": true
    },
    "kernelspec": {
      "name": "python3",
      "display_name": "Python 3"
    },
    "language_info": {
      "name": "python"
    },
    "accelerator": "GPU"
  },
  "cells": [
    {
      "cell_type": "markdown",
      "metadata": {
        "id": "view-in-github",
        "colab_type": "text"
      },
      "source": [
        "<a href=\"https://colab.research.google.com/github/yinyang-boop/MM-DLP-DR/blob/main/MM_DLP_DR_based_on_chEMBL%2C_DrugBank%2C_GSDC_datasets.ipynb\" target=\"_parent\"><img src=\"https://colab.research.google.com/assets/colab-badge.svg\" alt=\"Open In Colab\"/></a>"
      ]
    },
    {
      "cell_type": "markdown",
      "source": [
        "Step 1: Initial Colab Configuration"
      ],
      "metadata": {
        "id": "xCbASZZ2G_IW"
      }
    },
    {
      "cell_type": "code",
      "source": [
        "# Enable GPU acceleration\n",
        "# Go to Runtime; Change runtime type; Hardware accelerator; GPU/T4\n",
        "# Mount Google Drive for data persistence\n",
        "from google.colab import drive\n",
        "drive.mount('/content/gdrive')\n",
        "# Create project directory\n",
        "import os\n",
        "project_dir = '/content/gdrive/MyDrive/DDLS_Drug_Repurposing'\n",
        "os.makedirs(project_dir, exist_ok=True)\n",
        "os.chdir(project_dir)\n",
        "# Check GPU availability\n",
        "import torch\n",
        "print(f\"PyTorch version: {torch.__version__}\")\n",
        "print(f\"CUDA available: {torch.cuda.is_available()}\")\n",
        "if torch.cuda.is_available():\n",
        "print(f\"CUDA version: {torch.version.cuda}\")\n",
        "print(f\"GPU device: {torch.cuda.get_device_name(0)}\")"
      ],
      "metadata": {
        "colab": {
          "base_uri": "https://localhost:8080/"
        },
        "id": "DEIo3VRu3tbg",
        "outputId": "3f7cf616-15a7-4a5e-e1ed-428c069f44f2"
      },
      "execution_count": null,
      "outputs": [
        {
          "output_type": "error",
          "ename": "IndentationError",
          "evalue": "expected an indented block after 'if' statement on line 15 (ipython-input-2073034638.py, line 16)",
          "traceback": [
            "\u001b[0;36m  File \u001b[0;32m\"/tmp/ipython-input-2073034638.py\"\u001b[0;36m, line \u001b[0;32m16\u001b[0m\n\u001b[0;31m    print(f\"CUDA version: {torch.version.cuda}\")\u001b[0m\n\u001b[0m    ^\u001b[0m\n\u001b[0;31mIndentationError\u001b[0m\u001b[0;31m:\u001b[0m expected an indented block after 'if' statement on line 15\n"
          ]
        }
      ]
    },
    {
      "cell_type": "markdown",
      "source": [
        "Step 2: Install Required Dependencies"
      ],
      "metadata": {
        "id": "sWJqGig2HEWv"
      }
    },
    {
      "cell_type": "code",
      "source": [
        "# Core dependencies installation\n",
        "!pip install -q torch==2.1.0 torchvision torchaudio --index-url https://download.pytorch.\n",
        "# Deep learning for graphs\n",
        "!pip install -q dgl==1.1.3 dgllife==0.3.2\n",
        "# PyTorch Geometric (alternative GNN library)\n",
        "!pip install -q torch-geometric torch-scatter torch-sparse torch-cluster\n",
        "# Cheminformatics\n",
        "!pip install -q rdkit-pypi chembl_webresource_client biopython\n",
        "# Protein language models\n",
        "!pip install -q transformers==4.35.0 sentencepiece fair-esm\n",
        "# DeepPurpose toolkit\n",
        "!pip install -q DeepPurpose\n",
        "# Data science and utilities\n",
        "!pip install -q pandas==2.0.3 numpy==1.24.3 scikit-learn==1.3.0\n",
        "!pip install -q matplotlib seaborn tqdm requests\n",
        "# Explainability\n",
        "!pip install -q shap captum\n",
        "# Reproducibility and versioning\n",
        "!pip install -q wandb mlflow pystow\n",
        "print(\"✓ All dependencies installed successfully!\")"
      ],
      "metadata": {
        "colab": {
          "base_uri": "https://localhost:8080/"
        },
        "id": "n6WC2n394Jg0",
        "outputId": "da6e9e7a-fdae-435b-a534-7317acc5cc23"
      },
      "execution_count": null,
      "outputs": [
        {
          "output_type": "stream",
          "name": "stdout",
          "text": [
            "Raw targets object from API: {'cross_references': [], 'organism': 'Homo sapiens', 'pref_name': 'Prothrombin', 'species_group_flag': False, 'target_chembl_id': 'CHEMBL204', 'target_components': [{'accession': 'P00734', 'component_description': 'Prothrombin', 'component_id': 92, 'component_type': 'PROTEIN', 'relationship': 'SINGLE PROTEIN', 'target_component_synonyms': [{'component_synonym': '3.4.21.5', 'syn_type': 'EC_NUMBER'}, {'component_synonym': 'Activation peptide fragment 1', 'syn_type': 'UNIPROT'}, {'component_synonym': 'Activation peptide fragment 2', 'syn_type': 'UNIPROT'}, {'component_synonym': 'Coagulation factor II', 'syn_type': 'UNIPROT'}, {'component_synonym': 'F2', 'syn_type': 'GENE_SYMBOL'}, {'component_synonym': 'Prothrombin', 'syn_type': 'UNIPROT'}, {'component_synonym': 'Thrombin heavy chain', 'syn_type': 'UNIPROT'}, {'component_synonym': 'Thrombin light chain', 'syn_type': 'UNIPROT'}], 'target_component_xrefs': [{'xref_id': '2H9T', 'xref_name': 'A', 'xref_src_db': 'PDBe'}, {'xref_id': '1UVS', 'xref_name': 'A', 'xref_src_db': 'PDBe'}, {'xref_id': '1D4P', 'xref_name': 'A', 'xref_src_db': 'PDBe'}, {'xref_id': '4HTC', 'xref_name': 'A', 'xref_src_db': 'PDBe'}, {'xref_id': '2UUJ', 'xref_name': 'A', 'xref_src_db': 'PDBe'}, {'xref_id': '2UUK', 'xref_name': 'A', 'xref_src_db': 'PDBe'}, {'xref_id': '1DWC', 'xref_name': 'A', 'xref_src_db': 'PDBe'}, {'xref_id': '1DWB', 'xref_name': 'A', 'xref_src_db': 'PDBe'}, {'xref_id': '1VZQ', 'xref_name': 'A', 'xref_src_db': 'PDBe'}, {'xref_id': '2UUF', 'xref_name': 'A', 'xref_src_db': 'PDBe'}, {'xref_id': '1T4V', 'xref_name': 'A', 'xref_src_db': 'PDBe'}, {'xref_id': '1MH0', 'xref_name': 'A', 'xref_src_db': 'PDBe'}, {'xref_id': '1T4U', 'xref_name': 'A', 'xref_src_db': 'PDBe'}, {'xref_id': '1C4Y', 'xref_name': 'A', 'xref_src_db': 'PDBe'}, {'xref_id': '1C4V', 'xref_name': 'A', 'xref_src_db': 'PDBe'}, {'xref_id': '1D6W', 'xref_name': 'A', 'xref_src_db': 'PDBe'}, {'xref_id': '1C4U', 'xref_name': 'A', 'xref_src_db': 'PDBe'}, {'xref_id': '3RML', 'xref_name': 'A', 'xref_src_db': 'PDBe'}, {'xref_id': '5AF9', 'xref_name': 'A', 'xref_src_db': 'PDBe'}, {'xref_id': '1DX5', 'xref_name': 'A', 'xref_src_db': 'PDBe'}, {'xref_id': '3RMM', 'xref_name': 'A', 'xref_src_db': 'PDBe'}, {'xref_id': '4E05', 'xref_name': 'A', 'xref_src_db': 'PDBe'}, {'xref_id': '4E06', 'xref_name': 'A', 'xref_src_db': 'PDBe'}, {'xref_id': '4I7Y', 'xref_name': 'A', 'xref_src_db': 'PDBe'}, {'xref_id': '2PKS', 'xref_name': 'A', 'xref_src_db': 'PDBe'}, {'xref_id': '3RLW', 'xref_name': 'A', 'xref_src_db': 'PDBe'}, {'xref_id': '3RLY', 'xref_name': 'A', 'xref_src_db': 'PDBe'}, {'xref_id': '1DWE', 'xref_name': 'A', 'xref_src_db': 'PDBe'}, {'xref_id': '1DWD', 'xref_name': 'A', 'xref_src_db': 'PDBe'}, {'xref_id': '2ANM', 'xref_name': 'A', 'xref_src_db': 'PDBe'}, {'xref_id': '3RM0', 'xref_name': 'A', 'xref_src_db': 'PDBe'}, {'xref_id': '2ANK', 'xref_name': 'A', 'xref_src_db': 'PDBe'}, {'xref_id': '3RM2', 'xref_name': 'A', 'xref_src_db': 'PDBe'}, {'xref_id': '1LHD', 'xref_name': 'A', 'xref_src_db': 'PDBe'}, {'xref_id': '1LHC', 'xref_name': 'A', 'xref_src_db': 'PDBe'}, {'xref_id': '4RKJ', 'xref_name': 'A', 'xref_src_db': 'PDBe'}, {'xref_id': '1PPB', 'xref_name': 'A', 'xref_src_db': 'PDBe'}, {'xref_id': '5AFY', 'xref_name': 'A', 'xref_src_db': 'PDBe'}, {'xref_id': '4H6S', 'xref_name': 'A', 'xref_src_db': 'PDBe'}, {'xref_id': '4H6T', 'xref_name': 'A', 'xref_src_db': 'PDBe'}, {'xref_id': '1LHG', 'xref_name': 'A', 'xref_src_db': 'PDBe'}, {'xref_id': '3F68', 'xref_name': 'A', 'xref_src_db': 'PDBe'}, {'xref_id': '1LHF', 'xref_name': 'A', 'xref_src_db': 'PDBe'}, {'xref_id': '1LHE', 'xref_name': 'A', 'xref_src_db': 'PDBe'}, {'xref_id': '1BTH', 'xref_name': 'A', 'xref_src_db': 'PDBe'}, {'xref_id': '1TWX', 'xref_name': 'A', 'xref_src_db': 'PDBe'}, {'xref_id': '3RMN', 'xref_name': 'A', 'xref_src_db': 'PDBe'}, {'xref_id': '3RMO', 'xref_name': 'A', 'xref_src_db': 'PDBe'}, {'xref_id': '1C5O', 'xref_name': 'A', 'xref_src_db': 'PDBe'}, {'xref_id': '1C5N', 'xref_name': 'A', 'xref_src_db': 'PDBe'}, {'xref_id': '1C5L', 'xref_name': 'A', 'xref_src_db': 'PDBe'}, {'xref_id': '1A3B', 'xref_name': 'A', 'xref_src_db': 'PDBe'}, {'xref_id': '1HAI', 'xref_name': 'A', 'xref_src_db': 'PDBe'}, {'xref_id': '1HAH', 'xref_name': 'A', 'xref_src_db': 'PDBe'}, {'xref_id': '1HAG', 'xref_name': 'A', 'xref_src_db': 'PDBe'}, {'xref_id': '3SQE', 'xref_name': 'A', 'xref_src_db': 'PDBe'}, {'xref_id': '1OOK', 'xref_name': 'A', 'xref_src_db': 'PDBe'}, {'xref_id': '3SQH', 'xref_name': 'A', 'xref_src_db': 'PDBe'}, {'xref_id': '1NM6', 'xref_name': 'A', 'xref_src_db': 'PDBe'}, {'xref_id': '3DT0', 'xref_name': 'A', 'xref_src_db': 'PDBe'}, {'xref_id': '1A2C', 'xref_name': 'A', 'xref_src_db': 'PDBe'}, {'xref_id': '5AFZ', 'xref_name': 'A', 'xref_src_db': 'PDBe'}, {'xref_id': '3QLP', 'xref_name': 'A', 'xref_src_db': 'PDBe'}, {'xref_id': '4RKO', 'xref_name': 'A', 'xref_src_db': 'PDBe'}, {'xref_id': '3UTU', 'xref_name': 'A', 'xref_src_db': 'PDBe'}, {'xref_id': '1A46', 'xref_name': 'A', 'xref_src_db': 'PDBe'}, {'xref_id': '2ZC9', 'xref_name': 'A', 'xref_src_db': 'PDBe'}, {'xref_id': '2A0Q', 'xref_name': 'A', 'xref_src_db': 'PDBe'}, {'xref_id': '3VXE', 'xref_name': 'A', 'xref_src_db': 'PDBe'}, {'xref_id': '2R2M', 'xref_name': 'A', 'xref_src_db': 'PDBe'}, {'xref_id': '3C27', 'xref_name': 'A', 'xref_src_db': 'PDBe'}, {'xref_id': '5DO4', 'xref_name': 'A', 'xref_src_db': 'PDBe'}, {'xref_id': '5JZY', 'xref_name': 'A', 'xref_src_db': 'PDBe'}, {'xref_id': '3D49', 'xref_name': 'A', 'xref_src_db': 'PDBe'}, {'xref_id': '1HAP', 'xref_name': 'A', 'xref_src_db': 'PDBe'}, {'xref_id': '1HAO', 'xref_name': 'A', 'xref_src_db': 'PDBe'}, {'xref_id': '3C1K', 'xref_name': 'A', 'xref_src_db': 'PDBe'}, {'xref_id': '5AHG', 'xref_name': 'A', 'xref_src_db': 'PDBe'}, {'xref_id': '1B5G', 'xref_name': 'A', 'xref_src_db': 'PDBe'}, {'xref_id': '1D9I', 'xref_name': 'A', 'xref_src_db': 'PDBe'}, {'xref_id': '1A3E', 'xref_name': 'A', 'xref_src_db': 'PDBe'}, {'xref_id': '3PMH', 'xref_name': 'A', 'xref_src_db': 'PDBe'}, {'xref_id': '5CMX', 'xref_name': 'A', 'xref_src_db': 'PDBe'}, {'xref_id': '6EO9', 'xref_name': 'A', 'xref_src_db': 'PDBe'}, {'xref_id': '6EO8', 'xref_name': 'A', 'xref_src_db': 'PDBe'}, {'xref_id': '1A4W', 'xref_name': 'A', 'xref_src_db': 'PDBe'}, {'xref_id': '1O0D', 'xref_name': 'A', 'xref_src_db': 'PDBe'}, {'xref_id': '1QUR', 'xref_name': 'A', 'xref_src_db': 'PDBe'}, {'xref_id': '3DUX', 'xref_name': 'A', 'xref_src_db': 'PDBe'}, {'xref_id': '3UWJ', 'xref_name': 'A', 'xref_src_db': 'PDBe'}, {'xref_id': '6EO7', 'xref_name': 'A', 'xref_src_db': 'PDBe'}, {'xref_id': '6EO6', 'xref_name': 'A', 'xref_src_db': 'PDBe'}, {'xref_id': '1NO9', 'xref_name': 'A', 'xref_src_db': 'PDBe'}, {'xref_id': '3E6P', 'xref_name': 'A', 'xref_src_db': 'PDBe'}, {'xref_id': '3LDX', 'xref_name': 'A', 'xref_src_db': 'PDBe'}, {'xref_id': '4HZH', 'xref_name': 'A', 'xref_src_db': 'PDBe'}, {'xref_id': '5TO3', 'xref_name': 'A', 'xref_src_db': 'PDBe'}, {'xref_id': '3TU7', 'xref_name': 'A', 'xref_src_db': 'PDBe'}, {'xref_id': '3U69', 'xref_name': 'A', 'xref_src_db': 'PDBe'}, {'xref_id': '1HBT', 'xref_name': 'A', 'xref_src_db': 'PDBe'}, {'xref_id': '4RN6', 'xref_name': 'A', 'xref_src_db': 'PDBe'}, {'xref_id': '2A2X', 'xref_name': 'A', 'xref_src_db': 'PDBe'}, {'xref_id': '2ZDV', 'xref_name': 'A', 'xref_src_db': 'PDBe'}, {'xref_id': '1B7X', 'xref_name': 'A', 'xref_src_db': 'PDBe'}, {'xref_id': '3PO1', 'xref_name': 'A', 'xref_src_db': 'PDBe'}, {'xref_id': '1AWF', 'xref_name': 'A', 'xref_src_db': 'PDBe'}, {'xref_id': '3B23', 'xref_name': 'A', 'xref_src_db': 'PDBe'}, {'xref_id': '1WAY', 'xref_name': 'A', 'xref_src_db': 'PDBe'}, {'xref_id': '3T5F', 'xref_name': 'A', 'xref_src_db': 'PDBe'}, {'xref_id': '4DT7', 'xref_name': 'A', 'xref_src_db': 'PDBe'}, {'xref_id': '1ZGV', 'xref_name': 'A', 'xref_src_db': 'PDBe'}, {'xref_id': '1A5G', 'xref_name': 'A', 'xref_src_db': 'PDBe'}, {'xref_id': '1A61', 'xref_name': 'A', 'xref_src_db': 'PDBe'}, {'xref_id': '1ZGI', 'xref_name': 'A', 'xref_src_db': 'PDBe'}, {'xref_id': '2ZDA', 'xref_name': 'A', 'xref_src_db': 'PDBe'}, {'xref_id': '4BOH', 'xref_name': 'A', 'xref_src_db': 'PDBe'}, {'xref_id': '3U8O', 'xref_name': 'A', 'xref_src_db': 'PDBe'}, {'xref_id': '1O2G', 'xref_name': 'A', 'xref_src_db': 'PDBe'}, {'xref_id': '3SV2', 'xref_name': 'A', 'xref_src_db': 'PDBe'}, {'xref_id': '3U8R', 'xref_name': 'A', 'xref_src_db': 'PDBe'}, {'xref_id': '2BVX', 'xref_name': 'A', 'xref_src_db': 'PDBe'}, {'xref_id': '3U8T', 'xref_name': 'A', 'xref_src_db': 'PDBe'}, {'xref_id': '2A45', 'xref_name': 'A', 'xref_src_db': 'PDBe'}, {'xref_id': '2ZF0', 'xref_name': 'A', 'xref_src_db': 'PDBe'}, {'xref_id': '6BJR', 'xref_name': 'A', 'xref_src_db': 'PDBe'}, {'xref_id': '1HDT', 'xref_name': 'A', 'xref_src_db': 'PDBe'}, {'xref_id': '1AWH', 'xref_name': 'A', 'xref_src_db': 'PDBe'}, {'xref_id': '2B5T', 'xref_name': 'A', 'xref_src_db': 'PDBe'}, {'xref_id': '2BVS', 'xref_name': 'A', 'xref_src_db': 'PDBe'}, {'xref_id': '2BVR', 'xref_name': 'A', 'xref_src_db': 'PDBe'}, {'xref_id': '1WBG', 'xref_name': 'A', 'xref_src_db': 'PDBe'}, {'xref_id': '2C8Z', 'xref_name': 'A', 'xref_src_db': 'PDBe'}, {'xref_id': '2C8Y', 'xref_name': 'A', 'xref_src_db': 'PDBe'}, {'xref_id': '2C8X', 'xref_name': 'A', 'xref_src_db': 'PDBe'}, {'xref_id': '2C8W', 'xref_name': 'A', 'xref_src_db': 'PDBe'}, {'xref_id': '1NRS', 'xref_name': 'A', 'xref_src_db': 'PDBe'}, {'xref_id': '2ZG0', 'xref_name': 'A', 'xref_src_db': 'PDBe'}, {'xref_id': '1NRR', 'xref_name': 'A', 'xref_src_db': 'PDBe'}, {'xref_id': '2ZFP', 'xref_name': 'A', 'xref_src_db': 'PDBe'}, {'xref_id': '1NRQ', 'xref_name': 'A', 'xref_src_db': 'PDBe'}, {'xref_id': '2ZFQ', 'xref_name': 'A', 'xref_src_db': 'PDBe'}, {'xref_id': '3R3G', 'xref_name': 'A', 'xref_src_db': 'PDBe'}, {'xref_id': '1NRP', 'xref_name': 'A', 'xref_src_db': 'PDBe'}, {'xref_id': '2ZFR', 'xref_name': 'A', 'xref_src_db': 'PDBe'}, {'xref_id': '1NRO', 'xref_name': 'A', 'xref_src_db': 'PDBe'}, {'xref_id': '1NRN', 'xref_name': 'A', 'xref_src_db': 'PDBe'}, {'xref_id': '2ZFF', 'xref_name': 'A', 'xref_src_db': 'PDBe'}, {'xref_id': '3U9A', 'xref_name': 'A', 'xref_src_db': 'PDBe'}, {'xref_id': '3U98', 'xref_name': 'A', 'xref_src_db': 'PDBe'}, {'xref_id': '1AY6', 'xref_name': 'A', 'xref_src_db': 'PDBe'}, {'xref_id': '2C93', 'xref_name': 'A', 'xref_src_db': 'PDBe'}, {'xref_id': '2C90', 'xref_name': 'A', 'xref_src_db': 'PDBe'}, {'xref_id': '2ZGX', 'xref_name': 'A', 'xref_src_db': 'PDBe'}, {'xref_id': '3BV9', 'xref_name': 'A', 'xref_src_db': 'PDBe'}, {'xref_id': '1NT1', 'xref_name': 'A', 'xref_src_db': 'PDBe'}, {'xref_id': '2JH6', 'xref_name': 'A', 'xref_src_db': 'PDBe'}, {'xref_id': '2JH5', 'xref_name': 'A', 'xref_src_db': 'PDBe'}, {'xref_id': '1IHT', 'xref_name': 'A', 'xref_src_db': 'PDBe'}, {'xref_id': '1IHS', 'xref_name': 'A', 'xref_src_db': 'PDBe'}, {'xref_id': '4E7R', 'xref_name': 'A', 'xref_src_db': 'PDBe'}, {'xref_id': '2JH0', 'xref_name': 'A', 'xref_src_db': 'PDBe'}, {'xref_id': '2BXU', 'xref_name': 'A', 'xref_src_db': 'PDBe'}, {'xref_id': '2BXT', 'xref_name': 'A', 'xref_src_db': 'PDBe'}, {'xref_id': '2ZGB', 'xref_name': 'A', 'xref_src_db': 'PDBe'}, {'xref_id': '3QTO', 'xref_name': 'A', 'xref_src_db': 'PDBe'}, {'xref_id': '1O5G', 'xref_name': 'A', 'xref_src_db': 'PDBe'}, {'xref_id': '1NU7', 'xref_name': 'A', 'xref_src_db': 'PDBe'}, {'xref_id': '2ZHQ', 'xref_name': 'A', 'xref_src_db': 'PDBe'}, {'xref_id': '2ZI2', 'xref_name': 'A', 'xref_src_db': 'PDBe'}, {'xref_id': '3S7H', 'xref_name': 'A', 'xref_src_db': 'PDBe'}, {'xref_id': '3S7K', 'xref_name': 'A', 'xref_src_db': 'PDBe'}, {'xref_id': '2ZHW', 'xref_name': 'A', 'xref_src_db': 'PDBe'}, {'xref_id': '3HAT', 'xref_name': 'A', 'xref_src_db': 'PDBe'}, {'xref_id': '5EW2', 'xref_name': 'A', 'xref_src_db': 'PDBe'}, {'xref_id': '1HGT', 'xref_name': 'A', 'xref_src_db': 'PDBe'}, {'xref_id': '5EW1', 'xref_name': 'A', 'xref_src_db': 'PDBe'}, {'xref_id': '1EB1', 'xref_name': 'A', 'xref_src_db': 'PDBe'}, {'xref_id': '3P17', 'xref_name': 'A', 'xref_src_db': 'PDBe'}, {'xref_id': '2ZHE', 'xref_name': 'A', 'xref_src_db': 'PDBe'}, {'xref_id': '2ZHF', 'xref_name': 'A', 'xref_src_db': 'PDBe'}, {'xref_id': '2GDE', 'xref_name': 'A', 'xref_src_db': 'PDBe'}, {'xref_id': '1TA2', 'xref_name': 'A', 'xref_src_db': 'PDBe'}, {'xref_id': '6V5T', 'xref_name': 'A', 'xref_src_db': 'PDBe'}, {'xref_id': '2PW8', 'xref_name': 'A', 'xref_src_db': 'PDBe'}, {'xref_id': '2ZIQ', 'xref_name': 'A', 'xref_src_db': 'PDBe'}, {'xref_id': '1P8V', 'xref_name': 'A', 'xref_src_db': 'PDBe'}, {'xref_id': '1JMO', 'xref_name': 'A', 'xref_src_db': 'PDBe'}, {'xref_id': '1TA6', 'xref_name': 'A', 'xref_src_db': 'PDBe'}, {'xref_id': '1NU9', 'xref_name': 'A', 'xref_src_db': 'PDBe'}, {'xref_id': '4DY7', 'xref_name': 'A', 'xref_src_db': 'PDBe'}, {'xref_id': '3QTV', 'xref_name': 'A', 'xref_src_db': 'PDBe'}, {'xref_id': '5NHU', 'xref_name': 'A', 'xref_src_db': 'PDBe'}, {'xref_id': '1TB6', 'xref_name': 'A', 'xref_src_db': 'PDBe'}, {'xref_id': '5E8E', 'xref_name': 'A', 'xref_src_db': 'PDBe'}, {'xref_id': '1MU8', 'xref_name': 'A', 'xref_src_db': 'PDBe'}, {'xref_id': '1MU6', 'xref_name': 'A', 'xref_src_db': 'PDBe'}, {'xref_id': '3QX5', 'xref_name': 'A', 'xref_src_db': 'PDBe'}, {'xref_id': '3B9F', 'xref_name': 'A', 'xref_src_db': 'PDBe'}, {'xref_id': '4O03', 'xref_name': 'A', 'xref_src_db': 'PDBe'}, {'xref_id': '1JOU', 'xref_name': 'A', 'xref_src_db': 'PDBe'}, {'xref_id': '4MLF', 'xref_name': 'A', 'xref_src_db': 'PDBe'}, {'xref_id': '1TBZ', 'xref_name': 'A', 'xref_src_db': 'PDBe'}, {'xref_id': '1OYT', 'xref_name': 'A', 'xref_src_db': 'PDBe'}, {'xref_id': '1GHY', 'xref_name': 'A', 'xref_src_db': 'PDBe'}, {'xref_id': '1GHX', 'xref_name': 'A', 'xref_src_db': 'PDBe'}, {'xref_id': '1GHW', 'xref_name': 'A', 'xref_src_db': 'PDBe'}, {'xref_id': '3QWC', 'xref_name': 'A', 'xref_src_db': 'PDBe'}, {'xref_id': '1GHV', 'xref_name': 'A', 'xref_src_db': 'PDBe'}, {'xref_id': '2HGT', 'xref_name': 'A', 'xref_src_db': 'PDBe'}, {'xref_id': '1MUE', 'xref_name': 'A', 'xref_src_db': 'PDBe'}, {'xref_id': '1CA8', 'xref_name': 'A', 'xref_src_db': 'PDBe'}, {'xref_id': '1NY2', 'xref_name': 'A', 'xref_src_db': 'PDBe'}, {'xref_id': '1SB1', 'xref_name': 'A', 'xref_src_db': 'PDBe'}, {'xref_id': '1HLT', 'xref_name': 'A', 'xref_src_db': 'PDBe'}, {'xref_id': '6C2W', 'xref_name': 'A', 'xref_src_db': 'PDBe'}, {'xref_id': '1K22', 'xref_name': 'A', 'xref_src_db': 'PDBe'}, {'xref_id': '1K21', 'xref_name': 'A', 'xref_src_db': 'PDBe'}, {'xref_id': '1GJ5', 'xref_name': 'A', 'xref_src_db': 'PDBe'}, {'xref_id': '1GJ4', 'xref_name': 'A', 'xref_src_db': 'PDBe'}, {'xref_id': '1BB0', 'xref_name': 'A', 'xref_src_db': 'PDBe'}, {'xref_id': '4YES', 'xref_name': 'A', 'xref_src_db': 'PDBe'}, {'xref_id': '3P70', 'xref_name': 'A', 'xref_src_db': 'PDBe'}, {'xref_id': '1DE7', 'xref_name': 'A', 'xref_src_db': 'PDBe'}, {'xref_id': '2FES', 'xref_name': 'A', 'xref_src_db': 'PDBe'}, {'xref_id': '2FEQ', 'xref_name': 'A', 'xref_src_db': 'PDBe'}, {'xref_id': '5MJT', 'xref_name': 'A', 'xref_src_db': 'PDBe'}, {'xref_id': '1XM1', 'xref_name': 'A', 'xref_src_db': 'PDBe'}, {'xref_id': '5A2M', 'xref_name': 'A', 'xref_src_db': 'PDBe'}, {'xref_id': '1BA8', 'xref_name': 'A', 'xref_src_db': 'PDBe'}, {'xref_id': '5JDU', 'xref_name': 'A', 'xref_src_db': 'PDBe'}, {'xref_id': '1NZQ', 'xref_name': 'A', 'xref_src_db': 'PDBe'}, {'xref_id': '5MLS', 'xref_name': 'A', 'xref_src_db': 'PDBe'}, {'xref_id': '1YPG', 'xref_name': 'A', 'xref_src_db': 'PDBe'}, {'xref_id': '1YPE', 'xref_name': 'A', 'xref_src_db': 'PDBe'}, {'xref_id': '5JFD', 'xref_name': 'A', 'xref_src_db': 'PDBe'}, {'xref_id': '1KTT', 'xref_name': 'A', 'xref_src_db': 'PDBe'}, {'xref_id': '1KTS', 'xref_name': 'A', 'xref_src_db': 'PDBe'}, {'xref_id': '1ZRB', 'xref_name': 'A', 'xref_src_db': 'PDBe'}, {'xref_id': '2ZO3', 'xref_name': 'A', 'xref_src_db': 'PDBe'}, {'xref_id': '4AX9', 'xref_name': 'A', 'xref_src_db': 'PDBe'}, {'xref_id': '3P6Z', 'xref_name': 'A', 'xref_src_db': 'PDBe'}, {'xref_id': '2ZNK', 'xref_name': 'A', 'xref_src_db': 'PDBe'}, {'xref_id': '1XMN', 'xref_name': 'A', 'xref_src_db': 'PDBe'}, {'xref_id': '4HFP', 'xref_name': 'A', 'xref_src_db': 'PDBe'}, {'xref_id': '3DA9', 'xref_name': 'A', 'xref_src_db': 'PDBe'}, {'xref_id': '1YPM', 'xref_name': 'A', 'xref_src_db': 'PDBe'}, {'xref_id': '1YPL', 'xref_name': 'A', 'xref_src_db': 'PDBe'}, {'xref_id': '1YPK', 'xref_name': 'A', 'xref_src_db': 'PDBe'}, {'xref_id': '1YPJ', 'xref_name': 'A', 'xref_src_db': 'PDBe'}, {'xref_id': '5MM6', 'xref_name': 'A', 'xref_src_db': 'PDBe'}, {'xref_id': '1ABI', 'xref_name': 'A', 'xref_src_db': 'PDBe'}, {'xref_id': '3EE0', 'xref_name': 'A', 'xref_src_db': 'PDBe'}, {'xref_id': '1RD3', 'xref_name': 'A', 'xref_src_db': 'PDBe'}, {'xref_id': '1ABJ', 'xref_name': 'A', 'xref_src_db': 'PDBe'}, {'xref_id': '4AYV', 'xref_name': 'A', 'xref_src_db': 'PDBe'}, {'xref_id': '1BCU', 'xref_name': 'A', 'xref_src_db': 'PDBe'}, {'xref_id': '4AYY', 'xref_name': 'A', 'xref_src_db': 'PDBe'}, {'xref_id': '4AZ2', 'xref_name': 'A', 'xref_src_db': 'PDBe'}, {'xref_id': '1QBV', 'xref_name': 'A', 'xref_src_db': 'PDBe'}, {'xref_id': '1SG8', 'xref_name': 'A', 'xref_src_db': 'PDBe'}, {'xref_id': '3GIS', 'xref_name': 'A', 'xref_src_db': 'PDBe'}, {'xref_id': '3DD2', 'xref_name': 'A', 'xref_src_db': 'PDBe'}, {'xref_id': '1DIT', 'xref_name': 'A', 'xref_src_db': 'PDBe'}, {'xref_id': '2HNT', 'xref_name': 'A', 'xref_src_db': 'PDBe'}, {'xref_id': '3HKJ', 'xref_name': 'A', 'xref_src_db': 'PDBe'}, {'xref_id': '3GIC', 'xref_name': 'A', 'xref_src_db': 'PDBe'}, {'xref_id': '1THS', 'xref_name': 'A', 'xref_src_db': 'PDBe'}, {'xref_id': '1SFQ', 'xref_name': 'A', 'xref_src_db': 'PDBe'}, {'xref_id': '1THR', 'xref_name': 'A', 'xref_src_db': 'PDBe'}, {'xref_id': '4LOY', 'xref_name': 'A', 'xref_src_db': 'PDBe'}, {'xref_id': '1THP', 'xref_name': 'A', 'xref_src_db': 'PDBe'}, {'xref_id': '3LU9', 'xref_name': 'A', 'xref_src_db': 'PDBe'}, {'xref_id': '3NXP', 'xref_name': 'A', 'xref_src_db': 'PDBe'}, {'xref_id': '1AD8', 'xref_name': 'A', 'xref_src_db': 'PDBe'}, {'xref_id': '1SGI', 'xref_name': 'A', 'xref_src_db': 'PDBe'}, {'xref_id': '2HPQ', 'xref_name': 'A', 'xref_src_db': 'PDBe'}, {'xref_id': '1JWT', 'xref_name': 'A', 'xref_src_db': 'PDBe'}, {'xref_id': '2HPP', 'xref_name': 'A', 'xref_src_db': 'PDBe'}, {'xref_id': '3EGK', 'xref_name': 'A', 'xref_src_db': 'PDBe'}, {'xref_id': '4UD9', 'xref_name': 'A', 'xref_src_db': 'PDBe'}, {'xref_id': '1UMA', 'xref_name': 'A', 'xref_src_db': 'PDBe'}, {'xref_id': '2CF9', 'xref_name': 'A', 'xref_src_db': 'PDBe'}, {'xref_id': '1AE8', 'xref_name': 'A', 'xref_src_db': 'PDBe'}, {'xref_id': '2CF8', 'xref_name': 'A', 'xref_src_db': 'PDBe'}, {'xref_id': '1SHH', 'xref_name': 'A', 'xref_src_db': 'PDBe'}, {'xref_id': '5GDS', 'xref_name': 'A', 'xref_src_db': 'PDBe'}, {'xref_id': '2GP9', 'xref_name': 'A', 'xref_src_db': 'PDBe'}, {'xref_id': '4UE7', 'xref_name': 'A', 'xref_src_db': 'PDBe'}, {'xref_id': '4UDW', 'xref_name': 'A', 'xref_src_db': 'PDBe'}, {'xref_id': '1DM4', 'xref_name': 'A', 'xref_src_db': 'PDBe'}, {'xref_id': '2BDY', 'xref_name': 'A', 'xref_src_db': 'PDBe'}, {'xref_id': '1Z71', 'xref_name': 'A', 'xref_src_db': 'PDBe'}, {'xref_id': '2THF', 'xref_name': 'A', 'xref_src_db': 'PDBe'}, {'xref_id': '1AFE', 'xref_name': 'A', 'xref_src_db': 'PDBe'}, {'xref_id': '1FPH', 'xref_name': 'A', 'xref_src_db': 'PDBe'}, {'xref_id': '1FPC', 'xref_name': 'A', 'xref_src_db': 'PDBe'}, {'xref_id': '1HUT', 'xref_name': 'A', 'xref_src_db': 'PDBe'}, {'xref_id': '1G32', 'xref_name': 'A', 'xref_src_db': 'PDBe'}, {'xref_id': '1G30', 'xref_name': 'A', 'xref_src_db': 'PDBe'}, {'xref_id': '1EOL', 'xref_name': 'A', 'xref_src_db': 'PDBe'}, {'xref_id': '4UFD', 'xref_name': 'A', 'xref_src_db': 'PDBe'}, {'xref_id': '1Z8J', 'xref_name': 'A', 'xref_src_db': 'PDBe'}, {'xref_id': '1G37', 'xref_name': 'A', 'xref_src_db': 'PDBe'}, {'xref_id': '1Z8I', 'xref_name': 'A', 'xref_src_db': 'PDBe'}, {'xref_id': '8RTN', 'xref_name': 'A', 'xref_src_db': 'PDBe'}, {'xref_id': '1TMB', 'xref_name': 'A', 'xref_src_db': 'PDBe'}, {'xref_id': '1BHX', 'xref_name': 'A', 'xref_src_db': 'PDBe'}, {'xref_id': '1EOJ', 'xref_name': 'A', 'xref_src_db': 'PDBe'}, {'xref_id': '4UEH', 'xref_name': 'A', 'xref_src_db': 'PDBe'}, {'xref_id': '4BAK', 'xref_name': 'A', 'xref_src_db': 'PDBe'}, {'xref_id': '5EDM', 'xref_name': 'A', 'xref_src_db': 'PDBe'}, {'xref_id': '4BAM', 'xref_name': 'A', 'xref_src_db': 'PDBe'}, {'xref_id': '4BAN', 'xref_name': 'A', 'xref_src_db': 'PDBe'}, {'xref_id': '4BAO', 'xref_name': 'A', 'xref_src_db': 'PDBe'}, {'xref_id': '4BAQ', 'xref_name': 'A', 'xref_src_db': 'PDBe'}, {'xref_id': '1AI8', 'xref_name': 'A', 'xref_src_db': 'PDBe'}, {'xref_id': '1AHT', 'xref_name': 'A', 'xref_src_db': 'PDBe'}, {'xref_id': '3DHK', 'xref_name': 'A', 'xref_src_db': 'PDBe'}, {'xref_id': '4BAH', 'xref_name': 'A', 'xref_src_db': 'PDBe'}, {'xref_id': '5EDK', 'xref_name': 'A', 'xref_src_db': 'PDBe'}, {'xref_id': '3K65', 'xref_name': 'A', 'xref_src_db': 'PDBe'}, {'xref_id': '1VR1', 'xref_name': 'A', 'xref_src_db': 'PDBe'}, {'xref_id': '1RIW', 'xref_name': 'A', 'xref_src_db': 'PDBe'}, {'xref_id': '4UFE', 'xref_name': 'A', 'xref_src_db': 'PDBe'}, {'xref_id': '4UFF', 'xref_name': 'A', 'xref_src_db': 'PDBe'}, {'xref_id': '4UFG', 'xref_name': 'A', 'xref_src_db': 'PDBe'}, {'xref_id': '1TMU', 'xref_name': 'A', 'xref_src_db': 'PDBe'}, {'xref_id': '1TMT', 'xref_name': 'A', 'xref_src_db': 'PDBe'}, {'xref_id': '1SL3', 'xref_name': 'A', 'xref_src_db': 'PDBe'}, {'xref_id': '3BF6', 'xref_name': 'A', 'xref_src_db': 'PDBe'}, {'xref_id': '1AIX', 'xref_name': 'A', 'xref_src_db': 'PDBe'}, {'xref_id': '3BEF', 'xref_name': 'A', 'xref_src_db': 'PDBe'}, {'xref_id': '4NZQ', 'xref_name': 'A', 'xref_src_db': 'PDBe'}, {'xref_id': '3BEI', 'xref_name': 'A', 'xref_src_db': 'PDBe'}, {'xref_id': '2AFQ', 'xref_name': 'A', 'xref_src_db': 'PDBe'}, {'xref_id': '5GIM', 'xref_name': 'A', 'xref_src_db': 'PDBe'}, {'xref_id': '1DOJ', 'xref_name': 'A', 'xref_src_db': 'PDBe'}, {'xref_id': '1E0F', 'xref_name': 'A', 'xref_src_db': 'PDBe'}, {'xref_id': '1QHR', 'xref_name': 'A', 'xref_src_db': 'PDBe'}, {'xref_id': '3SHA', 'xref_name': 'A', 'xref_src_db': 'PDBe'}, {'xref_id': '3SHC', 'xref_name': 'A', 'xref_src_db': 'PDBe'}, {'xref_id': '1QJ1', 'xref_name': 'A', 'xref_src_db': 'PDBe'}, {'xref_id': '1HXF', 'xref_name': 'A', 'xref_src_db': 'PDBe'}, {'xref_id': '1HXE', 'xref_name': 'A', 'xref_src_db': 'PDBe'}, {'xref_id': '1TOM', 'xref_name': 'A', 'xref_src_db': 'PDBe'}, {'xref_id': '1QJ7', 'xref_name': 'A', 'xref_src_db': 'PDBe'}, {'xref_id': '1QJ6', 'xref_name': 'A', 'xref_src_db': 'PDBe'}, {'xref_id': '1BMN', 'xref_name': 'A', 'xref_src_db': 'PDBe'}, {'xref_id': '1BMM', 'xref_name': 'A', 'xref_src_db': 'PDBe'}, {'xref_id': '3QDZ', 'xref_name': 'A', 'xref_src_db': 'PDBe'}, {'xref_id': '3SI3', 'xref_name': 'A', 'xref_src_db': 'PDBe'}, {'xref_id': '3SI4', 'xref_name': 'A', 'xref_src_db': 'PDBe'}, {'xref_id': '1H8D', 'xref_name': 'A', 'xref_src_db': 'PDBe'}, {'xref_id': '1TQ0', 'xref_name': 'A', 'xref_src_db': 'PDBe'}, {'xref_id': '7KME', 'xref_name': 'A', 'xref_src_db': 'PDBe'}, {'xref_id': '4LXB', 'xref_name': 'A', 'xref_src_db': 'PDBe'}, {'xref_id': '2OD3', 'xref_name': 'A', 'xref_src_db': 'PDBe'}, {'xref_id': '1TQ7', 'xref_name': 'A', 'xref_src_db': 'PDBe'}, {'xref_id': '1H8I', 'xref_name': 'A', 'xref_src_db': 'PDBe'}, {'xref_id': '1W7G', 'xref_name': 'A', 'xref_src_db': 'PDBe'}, {'xref_id': '4CH2', 'xref_name': 'A', 'xref_src_db': 'PDBe'}, {'xref_id': '2CN0', 'xref_name': 'A', 'xref_src_db': 'PDBe'}, {'xref_id': '4CH8', 'xref_name': 'A', 'xref_src_db': 'PDBe'}, {'xref_id': '4DII', 'xref_name': 'A', 'xref_src_db': 'PDBe'}, {'xref_id': '4LZ4', 'xref_name': 'A', 'xref_src_db': 'PDBe'}, {'xref_id': '2PGB', 'xref_name': 'A', 'xref_src_db': 'PDBe'}, {'xref_id': '4DIH', 'xref_name': 'A', 'xref_src_db': 'PDBe'}, {'xref_id': '4LZ1', 'xref_name': 'A', 'xref_src_db': 'PDBe'}, {'xref_id': '2HWL', 'xref_name': 'A', 'xref_src_db': 'PDBe'}, {'xref_id': '3HTC', 'xref_name': 'A', 'xref_src_db': 'PDBe'}, {'xref_id': '4THN', 'xref_name': 'A', 'xref_src_db': 'PDBe'}, {'xref_id': '2V3H', 'xref_name': 'A', 'xref_src_db': 'PDBe'}, {'xref_id': '3BIU', 'xref_name': 'A', 'xref_src_db': 'PDBe'}, {'xref_id': '3BIV', 'xref_name': 'A', 'xref_src_db': 'PDBe'}, {'xref_id': '3JZ1', 'xref_name': 'A', 'xref_src_db': 'PDBe'}, {'xref_id': '5L6N', 'xref_name': 'A', 'xref_src_db': 'PDBe'}, {'xref_id': '3JZ2', 'xref_name': 'A', 'xref_src_db': 'PDBe'}, {'xref_id': '2PGQ', 'xref_name': 'A', 'xref_src_db': 'PDBe'}, {'xref_id': '1C1V', 'xref_name': 'A', 'xref_src_db': 'PDBe'}, {'xref_id': '1C1U', 'xref_name': 'A', 'xref_src_db': 'PDBe'}, {'xref_id': '1D3T', 'xref_name': 'A', 'xref_src_db': 'PDBe'}, {'xref_id': '1D3Q', 'xref_name': 'A', 'xref_src_db': 'PDBe'}, {'xref_id': '1D3P', 'xref_name': 'A', 'xref_src_db': 'PDBe'}, {'xref_id': '3EQ0', 'xref_name': 'A', 'xref_src_db': 'PDBe'}, {'xref_id': '1C1W', 'xref_name': 'A', 'xref_src_db': 'PDBe'}, {'xref_id': '8KME', 'xref_name': 'A', 'xref_src_db': 'PDBe'}, {'xref_id': '1SR5', 'xref_name': 'A', 'xref_src_db': 'PDBe'}, {'xref_id': '1D3D', 'xref_name': 'A', 'xref_src_db': 'PDBe'}, {'xref_id': '2V3O', 'xref_name': 'A', 'xref_src_db': 'PDBe'}, {'xref_id': '3QGN', 'xref_name': 'A', 'xref_src_db': 'PDBe'}, {'xref_id': 'GO:0009897', 'xref_name': 'external side of plasma membrane', 'xref_src_db': 'GoComponent'}, {'xref_id': 'GO:0001530', 'xref_name': 'lipopolysaccharide binding', 'xref_src_db': 'GoFunction'}, {'xref_id': 'GO:0004175', 'xref_name': 'endopeptidase activity', 'xref_src_db': 'GoFunction'}, {'xref_id': 'GO:0004252', 'xref_name': 'serine-type endopeptidase activity', 'xref_src_db': 'GoFunction'}, {'xref_id': 'GO:0005102', 'xref_name': 'signaling receptor binding', 'xref_src_db': 'GoFunction'}, {'xref_id': 'GO:0005509', 'xref_name': 'calcium ion binding', 'xref_src_db': 'GoFunction'}, {'xref_id': 'GO:0005515', 'xref_name': 'protein binding', 'xref_src_db': 'GoFunction'}, {'xref_id': 'GO:0008083', 'xref_name': 'growth factor activity', 'xref_src_db': 'GoFunction'}, {'xref_id': 'GO:0008201', 'xref_name': 'heparin binding', 'xref_src_db': 'GoFunction'}, {'xref_id': 'GO:0008233', 'xref_name': 'peptidase activity', 'xref_src_db': 'GoFunction'}, {'xref_id': 'GO:0008236', 'xref_name': 'serine-type peptidase activity', 'xref_src_db': 'GoFunction'}, {'xref_id': 'GO:0048018', 'xref_name': 'receptor ligand activity', 'xref_src_db': 'GoFunction'}, {'xref_id': 'GO:0070053', 'xref_name': 'thrombospondin receptor activity', 'xref_src_db': 'GoFunction'}, {'xref_id': 'GO:0001934', 'xref_name': 'positive regulation of protein phosphorylation', 'xref_src_db': 'GoProcess'}, {'xref_id': 'GO:0006508', 'xref_name': 'proteolysis', 'xref_src_db': 'GoProcess'}, {'xref_id': 'GO:0007166', 'xref_name': 'cell surface receptor signaling pathway', 'xref_src_db': 'GoProcess'}, {'xref_id': 'GO:0007186', 'xref_name': 'G protein-coupled receptor signaling pathway', 'xref_src_db': 'GoProcess'}, {'xref_id': 'GO:0007596', 'xref_name': 'blood coagulation', 'xref_src_db': 'GoProcess'}, {'xref_id': 'GO:0008284', 'xref_name': 'positive regulation of cell population proliferation', 'xref_src_db': 'GoProcess'}, {'xref_id': 'GO:0008360', 'xref_name': 'regulation of cell shape', 'xref_src_db': 'GoProcess'}, {'xref_id': 'GO:0009611', 'xref_name': 'response to wounding', 'xref_src_db': 'GoProcess'}, {'xref_id': 'GO:0010544', 'xref_name': 'negative regulation of platelet activation', 'xref_src_db': 'GoProcess'}, {'xref_id': 'GO:0030168', 'xref_name': 'platelet activation', 'xref_src_db': 'GoProcess'}, {'xref_id': 'GO:0030193', 'xref_name': 'regulation of blood coagulation', 'xref_src_db': 'GoProcess'}, {'xref_id': 'GO:0030194', 'xref_name': 'positive regulation of blood coagulation', 'xref_src_db': 'GoProcess'}, {'xref_id': 'GO:0030195', 'xref_name': 'negative regulation of blood coagulation', 'xref_src_db': 'GoProcess'}, {'xref_id': 'GO:0030307', 'xref_name': 'positive regulation of cell growth', 'xref_src_db': 'GoProcess'}, {'xref_id': 'GO:0032024', 'xref_name': 'positive regulation of insulin secretion', 'xref_src_db': 'GoProcess'}, {'xref_id': 'GO:0032967', 'xref_name': 'positive regulation of collagen biosynthetic process', 'xref_src_db': 'GoProcess'}, {'xref_id': 'GO:0042730', 'xref_name': 'fibrinolysis', 'xref_src_db': 'GoProcess'}, {'xref_id': 'GO:0045861', 'xref_name': 'negative regulation of proteolysis', 'xref_src_db': 'GoProcess'}, {'xref_id': 'GO:0046427', 'xref_name': 'positive regulation of receptor signaling pathway via JAK-STAT', 'xref_src_db': 'GoProcess'}, {'xref_id': 'GO:0048712', 'xref_name': 'negative regulation of astrocyte differentiation', 'xref_src_db': 'GoProcess'}, {'xref_id': 'GO:0051281', 'xref_name': 'positive regulation of release of sequestered calcium ion into cytosol', 'xref_src_db': 'GoProcess'}, {'xref_id': 'GO:0051480', 'xref_name': 'regulation of cytosolic calcium ion concentration', 'xref_src_db': 'GoProcess'}, {'xref_id': 'GO:0051838', 'xref_name': 'cytolysis by host of symbiont cells', 'xref_src_db': 'GoProcess'}, {'xref_id': 'GO:0051897', 'xref_name': 'positive regulation of phosphatidylinositol 3-kinase/protein kinase B signal transduction', 'xref_src_db': 'GoProcess'}, {'xref_id': 'GO:0051918', 'xref_name': 'negative regulation of fibrinolysis', 'xref_src_db': 'GoProcess'}, {'xref_id': 'GO:0061844', 'xref_name': 'antimicrobial humoral immune response mediated by antimicrobial peptide', 'xref_src_db': 'GoProcess'}, {'xref_id': 'GO:0070493', 'xref_name': 'thrombin-activated receptor signaling pathway', 'xref_src_db': 'GoProcess'}, {'xref_id': 'GO:0070945', 'xref_name': 'neutrophil-mediated killing of gram-negative bacterium', 'xref_src_db': 'GoProcess'}, {'xref_id': 'GO:1900016', 'xref_name': 'negative regulation of cytokine production involved in inflammatory response', 'xref_src_db': 'GoProcess'}, {'xref_id': 'GO:1900182', 'xref_name': 'positive regulation of protein localization to nucleus', 'xref_src_db': 'GoProcess'}, {'xref_id': 'GO:1900738', 'xref_name': 'positive regulation of phospholipase C-activating G protein-coupled receptor signaling pathway', 'xref_src_db': 'GoProcess'}, {'xref_id': 'GO:1990806', 'xref_name': 'ligand-gated ion channel signaling pathway', 'xref_src_db': 'GoProcess'}, {'xref_id': 'GO:2000379', 'xref_name': 'positive regulation of reactive oxygen species metabolic process', 'xref_src_db': 'GoProcess'}, {'xref_id': 'GO:0005615', 'xref_name': 'extracellular space', 'xref_src_db': 'GoComponent'}, {'xref_id': 'GO:0005576', 'xref_name': 'extracellular region', 'xref_src_db': 'GoComponent'}, {'xref_id': 'GO:0005788', 'xref_name': 'endoplasmic reticulum lumen', 'xref_src_db': 'GoComponent'}, {'xref_id': 'GO:0005796', 'xref_name': 'Golgi lumen', 'xref_src_db': 'GoComponent'}, {'xref_id': 'GO:0005886', 'xref_name': 'plasma membrane', 'xref_src_db': 'GoComponent'}, {'xref_id': 'GO:0070062', 'xref_name': 'extracellular exosome', 'xref_src_db': 'GoComponent'}, {'xref_id': 'GO:0072562', 'xref_name': 'blood microparticle', 'xref_src_db': 'GoComponent'}, {'xref_id': '1AI8', 'xref_name': None, 'xref_src_db': 'PDB'}, {'xref_id': 'B2R7F7', 'xref_name': 'Prothrombin', 'xref_src_db': 'UniProt'}, {'xref_id': 'B4E1A7', 'xref_name': 'Prothrombin', 'xref_src_db': 'UniProt'}, {'xref_id': 'Q4QZ40', 'xref_name': 'Prothrombin', 'xref_src_db': 'UniProt'}, {'xref_id': 'Q53H04', 'xref_name': 'Prothrombin', 'xref_src_db': 'UniProt'}, {'xref_id': 'Q53H06', 'xref_name': 'Prothrombin', 'xref_src_db': 'UniProt'}, {'xref_id': 'Q69EZ7', 'xref_name': 'Prothrombin', 'xref_src_db': 'UniProt'}, {'xref_id': 'Q7Z7P3', 'xref_name': 'Prothrombin', 'xref_src_db': 'UniProt'}, {'xref_id': 'Q9UCA1', 'xref_name': 'Prothrombin', 'xref_src_db': 'UniProt'}, {'xref_id': 'P00734', 'xref_name': 'Prothrombin', 'xref_src_db': 'UniProt'}, {'xref_id': '1A2C', 'xref_name': None, 'xref_src_db': 'PDB'}, {'xref_id': '1A3B', 'xref_name': None, 'xref_src_db': 'PDB'}, {'xref_id': '1A3E', 'xref_name': None, 'xref_src_db': 'PDB'}, {'xref_id': '1A46', 'xref_name': None, 'xref_src_db': 'PDB'}, {'xref_id': '1A4W', 'xref_name': None, 'xref_src_db': 'PDB'}, {'xref_id': '1A5G', 'xref_name': None, 'xref_src_db': 'PDB'}, {'xref_id': '1A61', 'xref_name': None, 'xref_src_db': 'PDB'}, {'xref_id': '1ABI', 'xref_name': None, 'xref_src_db': 'PDB'}, {'xref_id': '1ABJ', 'xref_name': None, 'xref_src_db': 'PDB'}, {'xref_id': '1AD8', 'xref_name': None, 'xref_src_db': 'PDB'}, {'xref_id': '1AE8', 'xref_name': None, 'xref_src_db': 'PDB'}, {'xref_id': '1AFE', 'xref_name': None, 'xref_src_db': 'PDB'}, {'xref_id': '1AHT', 'xref_name': None, 'xref_src_db': 'PDB'}, {'xref_id': '1AIX', 'xref_name': None, 'xref_src_db': 'PDB'}, {'xref_id': '1AWF', 'xref_name': None, 'xref_src_db': 'PDB'}, {'xref_id': '1AWH', 'xref_name': None, 'xref_src_db': 'PDB'}, {'xref_id': '1AY6', 'xref_name': None, 'xref_src_db': 'PDB'}, {'xref_id': '1B5G', 'xref_name': None, 'xref_src_db': 'PDB'}, {'xref_id': '1B7X', 'xref_name': None, 'xref_src_db': 'PDB'}, {'xref_id': '1BA8', 'xref_name': None, 'xref_src_db': 'PDB'}, {'xref_id': '1BB0', 'xref_name': None, 'xref_src_db': 'PDB'}, {'xref_id': '1BCU', 'xref_name': None, 'xref_src_db': 'PDB'}, {'xref_id': '1BHX', 'xref_name': None, 'xref_src_db': 'PDB'}, {'xref_id': '1BMM', 'xref_name': None, 'xref_src_db': 'PDB'}, {'xref_id': '1BMN', 'xref_name': None, 'xref_src_db': 'PDB'}, {'xref_id': '1BTH', 'xref_name': None, 'xref_src_db': 'PDB'}, {'xref_id': '1C1U', 'xref_name': None, 'xref_src_db': 'PDB'}, {'xref_id': '1C1V', 'xref_name': None, 'xref_src_db': 'PDB'}, {'xref_id': '1C1W', 'xref_name': None, 'xref_src_db': 'PDB'}, {'xref_id': '1C4U', 'xref_name': None, 'xref_src_db': 'PDB'}, {'xref_id': '1C4V', 'xref_name': None, 'xref_src_db': 'PDB'}, {'xref_id': '1C4Y', 'xref_name': None, 'xref_src_db': 'PDB'}, {'xref_id': '1C5L', 'xref_name': None, 'xref_src_db': 'PDB'}, {'xref_id': '1C5N', 'xref_name': None, 'xref_src_db': 'PDB'}, {'xref_id': '1C5O', 'xref_name': None, 'xref_src_db': 'PDB'}, {'xref_id': '1CA8', 'xref_name': None, 'xref_src_db': 'PDB'}, {'xref_id': '1D3D', 'xref_name': None, 'xref_src_db': 'PDB'}, {'xref_id': '1D3P', 'xref_name': None, 'xref_src_db': 'PDB'}, {'xref_id': '1D3Q', 'xref_name': None, 'xref_src_db': 'PDB'}, {'xref_id': '1D3T', 'xref_name': None, 'xref_src_db': 'PDB'}, {'xref_id': '1D4P', 'xref_name': None, 'xref_src_db': 'PDB'}, {'xref_id': '1D6W', 'xref_name': None, 'xref_src_db': 'PDB'}, {'xref_id': '1D9I', 'xref_name': None, 'xref_src_db': 'PDB'}, {'xref_id': '1DE7', 'xref_name': None, 'xref_src_db': 'PDB'}, {'xref_id': '1DIT', 'xref_name': None, 'xref_src_db': 'PDB'}, {'xref_id': '1DM4', 'xref_name': None, 'xref_src_db': 'PDB'}, {'xref_id': '1DOJ', 'xref_name': None, 'xref_src_db': 'PDB'}, {'xref_id': '1DWB', 'xref_name': None, 'xref_src_db': 'PDB'}, {'xref_id': '1DWC', 'xref_name': None, 'xref_src_db': 'PDB'}, {'xref_id': '1DWD', 'xref_name': None, 'xref_src_db': 'PDB'}, {'xref_id': '1DWE', 'xref_name': None, 'xref_src_db': 'PDB'}, {'xref_id': '1DX5', 'xref_name': None, 'xref_src_db': 'PDB'}, {'xref_id': '1E0F', 'xref_name': None, 'xref_src_db': 'PDB'}, {'xref_id': '1EB1', 'xref_name': None, 'xref_src_db': 'PDB'}, {'xref_id': '1EOJ', 'xref_name': None, 'xref_src_db': 'PDB'}, {'xref_id': '1EOL', 'xref_name': None, 'xref_src_db': 'PDB'}, {'xref_id': '1FPC', 'xref_name': None, 'xref_src_db': 'PDB'}, {'xref_id': '1FPH', 'xref_name': None, 'xref_src_db': 'PDB'}, {'xref_id': '1G30', 'xref_name': None, 'xref_src_db': 'PDB'}, {'xref_id': '1G32', 'xref_name': None, 'xref_src_db': 'PDB'}, {'xref_id': '1G37', 'xref_name': None, 'xref_src_db': 'PDB'}, {'xref_id': '1GHV', 'xref_name': None, 'xref_src_db': 'PDB'}, {'xref_id': '1GHW', 'xref_name': None, 'xref_src_db': 'PDB'}, {'xref_id': '1GHX', 'xref_name': None, 'xref_src_db': 'PDB'}, {'xref_id': '1GHY', 'xref_name': None, 'xref_src_db': 'PDB'}, {'xref_id': '1GJ4', 'xref_name': None, 'xref_src_db': 'PDB'}, {'xref_id': '1GJ5', 'xref_name': None, 'xref_src_db': 'PDB'}, {'xref_id': '1H8D', 'xref_name': None, 'xref_src_db': 'PDB'}, {'xref_id': '1H8I', 'xref_name': None, 'xref_src_db': 'PDB'}, {'xref_id': '1HAG', 'xref_name': None, 'xref_src_db': 'PDB'}, {'xref_id': '1HAH', 'xref_name': None, 'xref_src_db': 'PDB'}, {'xref_id': '1HAI', 'xref_name': None, 'xref_src_db': 'PDB'}, {'xref_id': '1HAO', 'xref_name': None, 'xref_src_db': 'PDB'}, {'xref_id': '1HAP', 'xref_name': None, 'xref_src_db': 'PDB'}, {'xref_id': '1HBT', 'xref_name': None, 'xref_src_db': 'PDB'}, {'xref_id': '1HDT', 'xref_name': None, 'xref_src_db': 'PDB'}, {'xref_id': '1HGT', 'xref_name': None, 'xref_src_db': 'PDB'}, {'xref_id': '1HLT', 'xref_name': None, 'xref_src_db': 'PDB'}, {'xref_id': '1HUT', 'xref_name': None, 'xref_src_db': 'PDB'}, {'xref_id': '1HXE', 'xref_name': None, 'xref_src_db': 'PDB'}, {'xref_id': '1HXF', 'xref_name': None, 'xref_src_db': 'PDB'}, {'xref_id': '1IHS', 'xref_name': None, 'xref_src_db': 'PDB'}, {'xref_id': '1IHT', 'xref_name': None, 'xref_src_db': 'PDB'}, {'xref_id': '1JMO', 'xref_name': None, 'xref_src_db': 'PDB'}, {'xref_id': '1JOU', 'xref_name': None, 'xref_src_db': 'PDB'}, {'xref_id': '1JWT', 'xref_name': None, 'xref_src_db': 'PDB'}, {'xref_id': '1K21', 'xref_name': None, 'xref_src_db': 'PDB'}, {'xref_id': '1K22', 'xref_name': None, 'xref_src_db': 'PDB'}, {'xref_id': '1KTS', 'xref_name': None, 'xref_src_db': 'PDB'}, {'xref_id': '1KTT', 'xref_name': None, 'xref_src_db': 'PDB'}, {'xref_id': '1LHC', 'xref_name': None, 'xref_src_db': 'PDB'}, {'xref_id': '1LHD', 'xref_name': None, 'xref_src_db': 'PDB'}, {'xref_id': '1LHE', 'xref_name': None, 'xref_src_db': 'PDB'}, {'xref_id': '1LHF', 'xref_name': None, 'xref_src_db': 'PDB'}, {'xref_id': '1LHG', 'xref_name': None, 'xref_src_db': 'PDB'}, {'xref_id': '1MH0', 'xref_name': None, 'xref_src_db': 'PDB'}, {'xref_id': '1MU6', 'xref_name': None, 'xref_src_db': 'PDB'}, {'xref_id': '1MU8', 'xref_name': None, 'xref_src_db': 'PDB'}, {'xref_id': '1MUE', 'xref_name': None, 'xref_src_db': 'PDB'}, {'xref_id': '1NM6', 'xref_name': None, 'xref_src_db': 'PDB'}, {'xref_id': '1NO9', 'xref_name': None, 'xref_src_db': 'PDB'}, {'xref_id': '1NRN', 'xref_name': None, 'xref_src_db': 'PDB'}, {'xref_id': '1NRO', 'xref_name': None, 'xref_src_db': 'PDB'}, {'xref_id': '1NRP', 'xref_name': None, 'xref_src_db': 'PDB'}, {'xref_id': '1NRQ', 'xref_name': None, 'xref_src_db': 'PDB'}, {'xref_id': '1NRR', 'xref_name': None, 'xref_src_db': 'PDB'}, {'xref_id': '1NRS', 'xref_name': None, 'xref_src_db': 'PDB'}, {'xref_id': '1NT1', 'xref_name': None, 'xref_src_db': 'PDB'}, {'xref_id': '1NU7', 'xref_name': None, 'xref_src_db': 'PDB'}, {'xref_id': '1NU9', 'xref_name': None, 'xref_src_db': 'PDB'}, {'xref_id': '1NY2', 'xref_name': None, 'xref_src_db': 'PDB'}, {'xref_id': '1NZQ', 'xref_name': None, 'xref_src_db': 'PDB'}, {'xref_id': '1O0D', 'xref_name': None, 'xref_src_db': 'PDB'}, {'xref_id': '1O2G', 'xref_name': None, 'xref_src_db': 'PDB'}, {'xref_id': '1O5G', 'xref_name': None, 'xref_src_db': 'PDB'}, {'xref_id': '1OOK', 'xref_name': None, 'xref_src_db': 'PDB'}, {'xref_id': '1OYT', 'xref_name': None, 'xref_src_db': 'PDB'}, {'xref_id': '1P8V', 'xref_name': None, 'xref_src_db': 'PDB'}, {'xref_id': '1PPB', 'xref_name': None, 'xref_src_db': 'PDB'}, {'xref_id': '1QBV', 'xref_name': None, 'xref_src_db': 'PDB'}, {'xref_id': '1QHR', 'xref_name': None, 'xref_src_db': 'PDB'}, {'xref_id': '1QJ1', 'xref_name': None, 'xref_src_db': 'PDB'}, {'xref_id': '1QJ6', 'xref_name': None, 'xref_src_db': 'PDB'}, {'xref_id': '1QJ7', 'xref_name': None, 'xref_src_db': 'PDB'}, {'xref_id': '1QUR', 'xref_name': None, 'xref_src_db': 'PDB'}, {'xref_id': '1RD3', 'xref_name': None, 'xref_src_db': 'PDB'}, {'xref_id': '1RIW', 'xref_name': None, 'xref_src_db': 'PDB'}, {'xref_id': '1SB1', 'xref_name': None, 'xref_src_db': 'PDB'}, {'xref_id': '1SFQ', 'xref_name': None, 'xref_src_db': 'PDB'}, {'xref_id': '1SG8', 'xref_name': None, 'xref_src_db': 'PDB'}, {'xref_id': '1SGI', 'xref_name': None, 'xref_src_db': 'PDB'}, {'xref_id': '1SHH', 'xref_name': None, 'xref_src_db': 'PDB'}, {'xref_id': '1SL3', 'xref_name': None, 'xref_src_db': 'PDB'}, {'xref_id': '1SR5', 'xref_name': None, 'xref_src_db': 'PDB'}, {'xref_id': '1T4U', 'xref_name': None, 'xref_src_db': 'PDB'}, {'xref_id': '1T4V', 'xref_name': None, 'xref_src_db': 'PDB'}, {'xref_id': '1TA2', 'xref_name': None, 'xref_src_db': 'PDB'}, {'xref_id': '1TA6', 'xref_name': None, 'xref_src_db': 'PDB'}, {'xref_id': '1TB6', 'xref_name': None, 'xref_src_db': 'PDB'}, {'xref_id': '1TBZ', 'xref_name': None, 'xref_src_db': 'PDB'}, {'xref_id': '1THP', 'xref_name': None, 'xref_src_db': 'PDB'}, {'xref_id': '1THR', 'xref_name': None, 'xref_src_db': 'PDB'}, {'xref_id': '1THS', 'xref_name': None, 'xref_src_db': 'PDB'}, {'xref_id': '1TMB', 'xref_name': None, 'xref_src_db': 'PDB'}, {'xref_id': '1TMT', 'xref_name': None, 'xref_src_db': 'PDB'}, {'xref_id': '1TMU', 'xref_name': None, 'xref_src_db': 'PDB'}, {'xref_id': '1TOM', 'xref_name': None, 'xref_src_db': 'PDB'}, {'xref_id': '1TQ0', 'xref_name': None, 'xref_src_db': 'PDB'}, {'xref_id': '1TQ7', 'xref_name': None, 'xref_src_db': 'PDB'}, {'xref_id': '1TWX', 'xref_name': None, 'xref_src_db': 'PDB'}, {'xref_id': '1UMA', 'xref_name': None, 'xref_src_db': 'PDB'}, {'xref_id': '1UVS', 'xref_name': None, 'xref_src_db': 'PDB'}, {'xref_id': '1VR1', 'xref_name': None, 'xref_src_db': 'PDB'}, {'xref_id': '1VZQ', 'xref_name': None, 'xref_src_db': 'PDB'}, {'xref_id': '1W7G', 'xref_name': None, 'xref_src_db': 'PDB'}, {'xref_id': '1WAY', 'xref_name': None, 'xref_src_db': 'PDB'}, {'xref_id': '1WBG', 'xref_name': None, 'xref_src_db': 'PDB'}, {'xref_id': '1XM1', 'xref_name': None, 'xref_src_db': 'PDB'}, {'xref_id': '1XMN', 'xref_name': None, 'xref_src_db': 'PDB'}, {'xref_id': '1YPE', 'xref_name': None, 'xref_src_db': 'PDB'}, {'xref_id': '1YPG', 'xref_name': None, 'xref_src_db': 'PDB'}, {'xref_id': '1YPJ', 'xref_name': None, 'xref_src_db': 'PDB'}, {'xref_id': '1YPK', 'xref_name': None, 'xref_src_db': 'PDB'}, {'xref_id': '1YPL', 'xref_name': None, 'xref_src_db': 'PDB'}, {'xref_id': '1YPM', 'xref_name': None, 'xref_src_db': 'PDB'}, {'xref_id': '1Z71', 'xref_name': None, 'xref_src_db': 'PDB'}, {'xref_id': '1Z8I', 'xref_name': None, 'xref_src_db': 'PDB'}, {'xref_id': '1Z8J', 'xref_name': None, 'xref_src_db': 'PDB'}, {'xref_id': '1ZGI', 'xref_name': None, 'xref_src_db': 'PDB'}, {'xref_id': '1ZGV', 'xref_name': None, 'xref_src_db': 'PDB'}, {'xref_id': '1ZRB', 'xref_name': None, 'xref_src_db': 'PDB'}, {'xref_id': '2A0Q', 'xref_name': None, 'xref_src_db': 'PDB'}, {'xref_id': '2A2X', 'xref_name': None, 'xref_src_db': 'PDB'}, {'xref_id': '2A45', 'xref_name': None, 'xref_src_db': 'PDB'}, {'xref_id': '2AFQ', 'xref_name': None, 'xref_src_db': 'PDB'}, {'xref_id': '2ANK', 'xref_name': None, 'xref_src_db': 'PDB'}, {'xref_id': '2ANM', 'xref_name': None, 'xref_src_db': 'PDB'}, {'xref_id': '2B5T', 'xref_name': None, 'xref_src_db': 'PDB'}, {'xref_id': '2BDY', 'xref_name': None, 'xref_src_db': 'PDB'}, {'xref_id': '2BVR', 'xref_name': None, 'xref_src_db': 'PDB'}, {'xref_id': '2BVS', 'xref_name': None, 'xref_src_db': 'PDB'}, {'xref_id': '2BVX', 'xref_name': None, 'xref_src_db': 'PDB'}, {'xref_id': '2BXT', 'xref_name': None, 'xref_src_db': 'PDB'}, {'xref_id': '2BXU', 'xref_name': None, 'xref_src_db': 'PDB'}, {'xref_id': '2C8W', 'xref_name': None, 'xref_src_db': 'PDB'}, {'xref_id': '2C8X', 'xref_name': None, 'xref_src_db': 'PDB'}, {'xref_id': '2C8Y', 'xref_name': None, 'xref_src_db': 'PDB'}, {'xref_id': '2C8Z', 'xref_name': None, 'xref_src_db': 'PDB'}, {'xref_id': '2C90', 'xref_name': None, 'xref_src_db': 'PDB'}, {'xref_id': '2C93', 'xref_name': None, 'xref_src_db': 'PDB'}, {'xref_id': '2CF8', 'xref_name': None, 'xref_src_db': 'PDB'}, {'xref_id': '2CF9', 'xref_name': None, 'xref_src_db': 'PDB'}, {'xref_id': '2CN0', 'xref_name': None, 'xref_src_db': 'PDB'}, {'xref_id': '2FEQ', 'xref_name': None, 'xref_src_db': 'PDB'}, {'xref_id': '2FES', 'xref_name': None, 'xref_src_db': 'PDB'}, {'xref_id': '2GDE', 'xref_name': None, 'xref_src_db': 'PDB'}, {'xref_id': '2GP9', 'xref_name': None, 'xref_src_db': 'PDB'}, {'xref_id': '2H9T', 'xref_name': None, 'xref_src_db': 'PDB'}, {'xref_id': '2HGT', 'xref_name': None, 'xref_src_db': 'PDB'}, {'xref_id': '2HNT', 'xref_name': None, 'xref_src_db': 'PDB'}, {'xref_id': '2HPP', 'xref_name': None, 'xref_src_db': 'PDB'}, {'xref_id': '2HPQ', 'xref_name': None, 'xref_src_db': 'PDB'}, {'xref_id': '2HWL', 'xref_name': None, 'xref_src_db': 'PDB'}, {'xref_id': '2JH0', 'xref_name': None, 'xref_src_db': 'PDB'}, {'xref_id': '2JH5', 'xref_name': None, 'xref_src_db': 'PDB'}, {'xref_id': '2JH6', 'xref_name': None, 'xref_src_db': 'PDB'}, {'xref_id': '2OD3', 'xref_name': None, 'xref_src_db': 'PDB'}, {'xref_id': '2PGB', 'xref_name': None, 'xref_src_db': 'PDB'}, {'xref_id': '2PGQ', 'xref_name': None, 'xref_src_db': 'PDB'}, {'xref_id': '2PKS', 'xref_name': None, 'xref_src_db': 'PDB'}, {'xref_id': '2PW8', 'xref_name': None, 'xref_src_db': 'PDB'}, {'xref_id': '2R2M', 'xref_name': None, 'xref_src_db': 'PDB'}, {'xref_id': '2THF', 'xref_name': None, 'xref_src_db': 'PDB'}, {'xref_id': '2UUF', 'xref_name': None, 'xref_src_db': 'PDB'}, {'xref_id': '2UUJ', 'xref_name': None, 'xref_src_db': 'PDB'}, {'xref_id': '2UUK', 'xref_name': None, 'xref_src_db': 'PDB'}, {'xref_id': '2V3H', 'xref_name': None, 'xref_src_db': 'PDB'}, {'xref_id': '2V3O', 'xref_name': None, 'xref_src_db': 'PDB'}, {'xref_id': '2ZC9', 'xref_name': None, 'xref_src_db': 'PDB'}, {'xref_id': '2ZDA', 'xref_name': None, 'xref_src_db': 'PDB'}, {'xref_id': '2ZDV', 'xref_name': None, 'xref_src_db': 'PDB'}, {'xref_id': '2ZF0', 'xref_name': None, 'xref_src_db': 'PDB'}, {'xref_id': '2ZFF', 'xref_name': None, 'xref_src_db': 'PDB'}, {'xref_id': '2ZFP', 'xref_name': None, 'xref_src_db': 'PDB'}, {'xref_id': '2ZFQ', 'xref_name': None, 'xref_src_db': 'PDB'}, {'xref_id': '2ZFR', 'xref_name': None, 'xref_src_db': 'PDB'}, {'xref_id': '2ZG0', 'xref_name': None, 'xref_src_db': 'PDB'}, {'xref_id': '2ZGB', 'xref_name': None, 'xref_src_db': 'PDB'}, {'xref_id': '2ZGX', 'xref_name': None, 'xref_src_db': 'PDB'}, {'xref_id': '2ZHE', 'xref_name': None, 'xref_src_db': 'PDB'}, {'xref_id': '2ZHF', 'xref_name': None, 'xref_src_db': 'PDB'}, {'xref_id': '2ZHQ', 'xref_name': None, 'xref_src_db': 'PDB'}, {'xref_id': '2ZHW', 'xref_name': None, 'xref_src_db': 'PDB'}, {'xref_id': '2ZI2', 'xref_name': None, 'xref_src_db': 'PDB'}, {'xref_id': '2ZIQ', 'xref_name': None, 'xref_src_db': 'PDB'}, {'xref_id': '2ZNK', 'xref_name': None, 'xref_src_db': 'PDB'}, {'xref_id': '2ZO3', 'xref_name': None, 'xref_src_db': 'PDB'}, {'xref_id': '3B23', 'xref_name': None, 'xref_src_db': 'PDB'}, {'xref_id': '3B9F', 'xref_name': None, 'xref_src_db': 'PDB'}, {'xref_id': '3BEF', 'xref_name': None, 'xref_src_db': 'PDB'}, {'xref_id': '3BEI', 'xref_name': None, 'xref_src_db': 'PDB'}, {'xref_id': '3BF6', 'xref_name': None, 'xref_src_db': 'PDB'}, {'xref_id': '3BIU', 'xref_name': None, 'xref_src_db': 'PDB'}, {'xref_id': '3BIV', 'xref_name': None, 'xref_src_db': 'PDB'}, {'xref_id': '3BV9', 'xref_name': None, 'xref_src_db': 'PDB'}, {'xref_id': '3C1K', 'xref_name': None, 'xref_src_db': 'PDB'}, {'xref_id': '3C27', 'xref_name': None, 'xref_src_db': 'PDB'}, {'xref_id': '3D49', 'xref_name': None, 'xref_src_db': 'PDB'}, {'xref_id': '3DA9', 'xref_name': None, 'xref_src_db': 'PDB'}, {'xref_id': '3DD2', 'xref_name': None, 'xref_src_db': 'PDB'}, {'xref_id': '3DHK', 'xref_name': None, 'xref_src_db': 'PDB'}, {'xref_id': '3DT0', 'xref_name': None, 'xref_src_db': 'PDB'}, {'xref_id': '3DUX', 'xref_name': None, 'xref_src_db': 'PDB'}, {'xref_id': '3E6P', 'xref_name': None, 'xref_src_db': 'PDB'}, {'xref_id': '3EE0', 'xref_name': None, 'xref_src_db': 'PDB'}, {'xref_id': '3EGK', 'xref_name': None, 'xref_src_db': 'PDB'}, {'xref_id': '3EQ0', 'xref_name': None, 'xref_src_db': 'PDB'}, {'xref_id': '3F68', 'xref_name': None, 'xref_src_db': 'PDB'}, {'xref_id': '3GIC', 'xref_name': None, 'xref_src_db': 'PDB'}, {'xref_id': '3GIS', 'xref_name': None, 'xref_src_db': 'PDB'}, {'xref_id': '3HAT', 'xref_name': None, 'xref_src_db': 'PDB'}, {'xref_id': '3HKJ', 'xref_name': None, 'xref_src_db': 'PDB'}, {'xref_id': '3HTC', 'xref_name': None, 'xref_src_db': 'PDB'}, {'xref_id': '3JZ1', 'xref_name': None, 'xref_src_db': 'PDB'}, {'xref_id': '3JZ2', 'xref_name': None, 'xref_src_db': 'PDB'}, {'xref_id': '3K65', 'xref_name': None, 'xref_src_db': 'PDB'}, {'xref_id': '3LDX', 'xref_name': None, 'xref_src_db': 'PDB'}, {'xref_id': '3LU9', 'xref_name': None, 'xref_src_db': 'PDB'}, {'xref_id': '3NXP', 'xref_name': None, 'xref_src_db': 'PDB'}, {'xref_id': '3P17', 'xref_name': None, 'xref_src_db': 'PDB'}, {'xref_id': '3P6Z', 'xref_name': None, 'xref_src_db': 'PDB'}, {'xref_id': '3P70', 'xref_name': None, 'xref_src_db': 'PDB'}, {'xref_id': '3PMH', 'xref_name': None, 'xref_src_db': 'PDB'}, {'xref_id': '3PO1', 'xref_name': None, 'xref_src_db': 'PDB'}, {'xref_id': '3QDZ', 'xref_name': None, 'xref_src_db': 'PDB'}, {'xref_id': '3QGN', 'xref_name': None, 'xref_src_db': 'PDB'}, {'xref_id': '3QLP', 'xref_name': None, 'xref_src_db': 'PDB'}, {'xref_id': '3QTO', 'xref_name': None, 'xref_src_db': 'PDB'}, {'xref_id': '3QTV', 'xref_name': None, 'xref_src_db': 'PDB'}, {'xref_id': '3QWC', 'xref_name': None, 'xref_src_db': 'PDB'}, {'xref_id': '3QX5', 'xref_name': None, 'xref_src_db': 'PDB'}, {'xref_id': '3R3G', 'xref_name': None, 'xref_src_db': 'PDB'}, {'xref_id': '3RLW', 'xref_name': None, 'xref_src_db': 'PDB'}, {'xref_id': '3RLY', 'xref_name': None, 'xref_src_db': 'PDB'}, {'xref_id': '3RM0', 'xref_name': None, 'xref_src_db': 'PDB'}, {'xref_id': '3RM2', 'xref_name': None, 'xref_src_db': 'PDB'}, {'xref_id': '3RML', 'xref_name': None, 'xref_src_db': 'PDB'}, {'xref_id': '3RMM', 'xref_name': None, 'xref_src_db': 'PDB'}, {'xref_id': '3RMN', 'xref_name': None, 'xref_src_db': 'PDB'}, {'xref_id': '3RMO', 'xref_name': None, 'xref_src_db': 'PDB'}, {'xref_id': '3S7H', 'xref_name': None, 'xref_src_db': 'PDB'}, {'xref_id': '3S7K', 'xref_name': None, 'xref_src_db': 'PDB'}, {'xref_id': '3SHA', 'xref_name': None, 'xref_src_db': 'PDB'}, {'xref_id': '3SHC', 'xref_name': None, 'xref_src_db': 'PDB'}, {'xref_id': '3SI3', 'xref_name': None, 'xref_src_db': 'PDB'}, {'xref_id': '3SI4', 'xref_name': None, 'xref_src_db': 'PDB'}, {'xref_id': '3SQE', 'xref_name': None, 'xref_src_db': 'PDB'}, {'xref_id': '3SQH', 'xref_name': None, 'xref_src_db': 'PDB'}, {'xref_id': '3SV2', 'xref_name': None, 'xref_src_db': 'PDB'}, {'xref_id': '3T5F', 'xref_name': None, 'xref_src_db': 'PDB'}, {'xref_id': '3TU7', 'xref_name': None, 'xref_src_db': 'PDB'}, {'xref_id': '3U69', 'xref_name': None, 'xref_src_db': 'PDB'}, {'xref_id': '3U8O', 'xref_name': None, 'xref_src_db': 'PDB'}, {'xref_id': '3U8R', 'xref_name': None, 'xref_src_db': 'PDB'}, {'xref_id': '3U8T', 'xref_name': None, 'xref_src_db': 'PDB'}, {'xref_id': '3U98', 'xref_name': None, 'xref_src_db': 'PDB'}, {'xref_id': '3U9A', 'xref_name': None, 'xref_src_db': 'PDB'}, {'xref_id': '3UTU', 'xref_name': None, 'xref_src_db': 'PDB'}, {'xref_id': '3UWJ', 'xref_name': None, 'xref_src_db': 'PDB'}, {'xref_id': '3VXE', 'xref_name': None, 'xref_src_db': 'PDB'}, {'xref_id': '3VXF', 'xref_name': None, 'xref_src_db': 'PDB'}, {'xref_id': '4AX9', 'xref_name': None, 'xref_src_db': 'PDB'}, {'xref_id': '4AYV', 'xref_name': None, 'xref_src_db': 'PDB'}, {'xref_id': '4AYY', 'xref_name': None, 'xref_src_db': 'PDB'}, {'xref_id': '4AZ2', 'xref_name': None, 'xref_src_db': 'PDB'}, {'xref_id': '4BAH', 'xref_name': None, 'xref_src_db': 'PDB'}, {'xref_id': '4BAK', 'xref_name': None, 'xref_src_db': 'PDB'}, {'xref_id': '4BAM', 'xref_name': None, 'xref_src_db': 'PDB'}, {'xref_id': '4BAN', 'xref_name': None, 'xref_src_db': 'PDB'}, {'xref_id': '4BAO', 'xref_name': None, 'xref_src_db': 'PDB'}, {'xref_id': '4BAQ', 'xref_name': None, 'xref_src_db': 'PDB'}, {'xref_id': '4BOH', 'xref_name': None, 'xref_src_db': 'PDB'}, {'xref_id': '4CH2', 'xref_name': None, 'xref_src_db': 'PDB'}, {'xref_id': '4CH8', 'xref_name': None, 'xref_src_db': 'PDB'}, {'xref_id': '4DIH', 'xref_name': None, 'xref_src_db': 'PDB'}, {'xref_id': '4DII', 'xref_name': None, 'xref_src_db': 'PDB'}, {'xref_id': '4DT7', 'xref_name': None, 'xref_src_db': 'PDB'}, {'xref_id': '4DY7', 'xref_name': None, 'xref_src_db': 'PDB'}, {'xref_id': '4E05', 'xref_name': None, 'xref_src_db': 'PDB'}, {'xref_id': '4E06', 'xref_name': None, 'xref_src_db': 'PDB'}, {'xref_id': '4E7R', 'xref_name': None, 'xref_src_db': 'PDB'}, {'xref_id': '4H6S', 'xref_name': None, 'xref_src_db': 'PDB'}, {'xref_id': '4H6T', 'xref_name': None, 'xref_src_db': 'PDB'}, {'xref_id': '4HFP', 'xref_name': None, 'xref_src_db': 'PDB'}, {'xref_id': '4HTC', 'xref_name': None, 'xref_src_db': 'PDB'}, {'xref_id': '4HZH', 'xref_name': None, 'xref_src_db': 'PDB'}, {'xref_id': '4I7Y', 'xref_name': None, 'xref_src_db': 'PDB'}, {'xref_id': '4LOY', 'xref_name': None, 'xref_src_db': 'PDB'}, {'xref_id': '4LXB', 'xref_name': None, 'xref_src_db': 'PDB'}, {'xref_id': '4LZ1', 'xref_name': None, 'xref_src_db': 'PDB'}, {'xref_id': '4LZ4', 'xref_name': None, 'xref_src_db': 'PDB'}, {'xref_id': '4MLF', 'xref_name': None, 'xref_src_db': 'PDB'}, {'xref_id': '4NZQ', 'xref_name': None, 'xref_src_db': 'PDB'}, {'xref_id': '4O03', 'xref_name': None, 'xref_src_db': 'PDB'}, {'xref_id': '4RKJ', 'xref_name': None, 'xref_src_db': 'PDB'}, {'xref_id': '4RKO', 'xref_name': None, 'xref_src_db': 'PDB'}, {'xref_id': '4RN6', 'xref_name': None, 'xref_src_db': 'PDB'}, {'xref_id': '4THN', 'xref_name': None, 'xref_src_db': 'PDB'}, {'xref_id': '4UD9', 'xref_name': None, 'xref_src_db': 'PDB'}, {'xref_id': '4UDW', 'xref_name': None, 'xref_src_db': 'PDB'}, {'xref_id': '4UE7', 'xref_name': None, 'xref_src_db': 'PDB'}, {'xref_id': '4UEH', 'xref_name': None, 'xref_src_db': 'PDB'}, {'xref_id': '4UFD', 'xref_name': None, 'xref_src_db': 'PDB'}, {'xref_id': '4UFE', 'xref_name': None, 'xref_src_db': 'PDB'}, {'xref_id': '4UFF', 'xref_name': None, 'xref_src_db': 'PDB'}, {'xref_id': '4UFG', 'xref_name': None, 'xref_src_db': 'PDB'}, {'xref_id': '4YES', 'xref_name': None, 'xref_src_db': 'PDB'}, {'xref_id': '5A2M', 'xref_name': None, 'xref_src_db': 'PDB'}, {'xref_id': '5AF9', 'xref_name': None, 'xref_src_db': 'PDB'}, {'xref_id': '5AFY', 'xref_name': None, 'xref_src_db': 'PDB'}, {'xref_id': '5AFZ', 'xref_name': None, 'xref_src_db': 'PDB'}, {'xref_id': '5AHG', 'xref_name': None, 'xref_src_db': 'PDB'}, {'xref_id': '5CMX', 'xref_name': None, 'xref_src_db': 'PDB'}, {'xref_id': '5DO4', 'xref_name': None, 'xref_src_db': 'PDB'}, {'xref_id': '5E8E', 'xref_name': None, 'xref_src_db': 'PDB'}, {'xref_id': '5EDK', 'xref_name': None, 'xref_src_db': 'PDB'}, {'xref_id': '5EDM', 'xref_name': None, 'xref_src_db': 'PDB'}, {'xref_id': '5EW1', 'xref_name': None, 'xref_src_db': 'PDB'}, {'xref_id': '5EW2', 'xref_name': None, 'xref_src_db': 'PDB'}, {'xref_id': '5GDS', 'xref_name': None, 'xref_src_db': 'PDB'}, {'xref_id': '5GIM', 'xref_name': None, 'xref_src_db': 'PDB'}, {'xref_id': '5JDU', 'xref_name': None, 'xref_src_db': 'PDB'}, {'xref_id': '5JFD', 'xref_name': None, 'xref_src_db': 'PDB'}, {'xref_id': '5JZY', 'xref_name': None, 'xref_src_db': 'PDB'}, {'xref_id': '5L6N', 'xref_name': None, 'xref_src_db': 'PDB'}, {'xref_id': '5MJT', 'xref_name': None, 'xref_src_db': 'PDB'}, {'xref_id': '5MLS', 'xref_name': None, 'xref_src_db': 'PDB'}, {'xref_id': '5MM6', 'xref_name': None, 'xref_src_db': 'PDB'}, {'xref_id': '5NHU', 'xref_name': None, 'xref_src_db': 'PDB'}, {'xref_id': '5TO3', 'xref_name': None, 'xref_src_db': 'PDB'}, {'xref_id': '5Z5W', 'xref_name': None, 'xref_src_db': 'PDB'}, {'xref_id': '5Z5X', 'xref_name': None, 'xref_src_db': 'PDB'}, {'xref_id': '6BJR', 'xref_name': None, 'xref_src_db': 'PDB'}, {'xref_id': '6C2W', 'xref_name': None, 'xref_src_db': 'PDB'}, {'xref_id': '6EO6', 'xref_name': None, 'xref_src_db': 'PDB'}, {'xref_id': '6EO7', 'xref_name': None, 'xref_src_db': 'PDB'}, {'xref_id': '6EO8', 'xref_name': None, 'xref_src_db': 'PDB'}, {'xref_id': '6EO9', 'xref_name': None, 'xref_src_db': 'PDB'}, {'xref_id': '6V5T', 'xref_name': None, 'xref_src_db': 'PDB'}, {'xref_id': '7KME', 'xref_name': None, 'xref_src_db': 'PDB'}, {'xref_id': '7TPP', 'xref_name': None, 'xref_src_db': 'PDB'}, {'xref_id': '8BWW', 'xref_name': None, 'xref_src_db': 'PDB'}, {'xref_id': '8KME', 'xref_name': None, 'xref_src_db': 'PDB'}, {'xref_id': '8RTN', 'xref_name': None, 'xref_src_db': 'PDB'}, {'xref_id': '8UF7', 'xref_name': None, 'xref_src_db': 'PDB'}, {'xref_id': '9CLN', 'xref_name': None, 'xref_src_db': 'PDB'}, {'xref_id': '9CLS', 'xref_name': None, 'xref_src_db': 'PDB'}, {'xref_id': '9CMO', 'xref_name': None, 'xref_src_db': 'PDB'}, {'xref_id': '9CTH', 'xref_name': None, 'xref_src_db': 'PDB'}, {'xref_id': 'P00734', 'xref_name': None, 'xref_src_db': 'AlphaFoldDB'}, {'xref_id': 'P00734', 'xref_name': None, 'xref_src_db': 'IntAct'}, {'xref_id': 'HGNC:3535', 'xref_name': 'F2', 'xref_src_db': 'HGNC'}, {'xref_id': 'R-HSA-140837', 'xref_name': 'Intrinsic Pathway of Fibrin Clot Formation', 'xref_src_db': 'Reactome'}, {'xref_id': 'R-HSA-140875', 'xref_name': 'Common Pathway of Fibrin Clot Formation', 'xref_src_db': 'Reactome'}, {'xref_id': 'R-HSA-159740', 'xref_name': 'Gamma-carboxylation of protein precursors', 'xref_src_db': 'Reactome'}, {'xref_id': 'R-HSA-159763', 'xref_name': 'Transport of gamma-carboxylated protein precursors from the endoplasmic reticulum to the Golgi apparatus', 'xref_src_db': 'Reactome'}, {'xref_id': 'R-HSA-159782', 'xref_name': 'Removal of aminoterminal propeptides from gamma-carboxylated proteins', 'xref_src_db': 'Reactome'}, {'xref_id': 'R-HSA-202733', 'xref_name': 'Cell surface interactions at the vascular wall', 'xref_src_db': 'Reactome'}, {'xref_id': 'R-HSA-375276', 'xref_name': 'Peptide ligand-binding receptors', 'xref_src_db': 'Reactome'}, {'xref_id': 'R-HSA-381426', 'xref_name': 'Regulation of Insulin-like Growth Factor (IGF) transport and uptake by Insulin-like Growth Factor Binding Proteins (IGFBPs)', 'xref_src_db': 'Reactome'}, {'xref_id': 'R-HSA-416476', 'xref_name': 'G alpha (q) signalling events', 'xref_src_db': 'Reactome'}, {'xref_id': 'R-HSA-456926', 'xref_name': 'Thrombin signalling through proteinase activated receptors (PARs)', 'xref_src_db': 'Reactome'}, {'xref_id': 'R-HSA-76009', 'xref_name': 'Platelet Aggregation (Plug Formation)', 'xref_src_db': 'Reactome'}, {'xref_id': 'R-HSA-9657688', 'xref_name': 'Defective factor XII causes hereditary angioedema', 'xref_src_db': 'Reactome'}, {'xref_id': 'R-HSA-9672391', 'xref_name': 'Defective F8 cleavage by thrombin', 'xref_src_db': 'Reactome'}, {'xref_id': 'R-HSA-977606', 'xref_name': 'Regulation of Complement cascade', 'xref_src_db': 'Reactome'}, {'xref_id': 'P00734', 'xref_name': None, 'xref_src_db': 'Pharos'}, {'xref_id': 'P00734', 'xref_name': None, 'xref_src_db': 'ExpressionAtlas'}, {'xref_id': 'IPR035972', 'xref_name': 'GLA-like_dom_SF', 'xref_src_db': 'InterPro'}, {'xref_id': 'IPR000294', 'xref_name': 'GLA_domain', 'xref_src_db': 'InterPro'}, {'xref_id': 'IPR000001', 'xref_name': 'Kringle', 'xref_src_db': 'InterPro'}, {'xref_id': 'IPR013806', 'xref_name': 'Kringle-like', 'xref_src_db': 'InterPro'}, {'xref_id': 'IPR018056', 'xref_name': 'Kringle_CS', 'xref_src_db': 'InterPro'}, {'xref_id': 'IPR038178', 'xref_name': 'Kringle_sf', 'xref_src_db': 'InterPro'}, {'xref_id': 'IPR009003', 'xref_name': 'Peptidase_S1_PA', 'xref_src_db': 'InterPro'}, {'xref_id': 'IPR043504', 'xref_name': 'Peptidase_S1_PA_chymotrypsin', 'xref_src_db': 'InterPro'}, {'xref_id': 'IPR001314', 'xref_name': 'Peptidase_S1A', 'xref_src_db': 'InterPro'}, {'xref_id': 'IPR003966', 'xref_name': 'Prothrombin/thrombin', 'xref_src_db': 'InterPro'}, {'xref_id': 'IPR051659', 'xref_name': 'Serine_Protease_S1-Domain', 'xref_src_db': 'InterPro'}, {'xref_id': 'IPR018992', 'xref_name': 'Thrombin_light_chain', 'xref_src_db': 'InterPro'}, {'xref_id': 'IPR037111', 'xref_name': 'Thrombin_light_chain_sf', 'xref_src_db': 'InterPro'}, {'xref_id': 'IPR001254', 'xref_name': 'Trypsin_dom', 'xref_src_db': 'InterPro'}, {'xref_id': 'IPR018114', 'xref_name': 'TRYPSIN_HIS', 'xref_src_db': 'InterPro'}, {'xref_id': 'IPR033116', 'xref_name': 'TRYPSIN_SER', 'xref_src_db': 'InterPro'}, {'xref_id': 'PTHR24254', 'xref_name': 'PROTHROMBIN', 'xref_src_db': 'PANTHER'}, {'xref_id': 'PTHR24254:SF10', 'xref_name': 'PROTHROMBIN', 'xref_src_db': 'PANTHER'}, {'xref_id': 'PF00594', 'xref_name': 'Gla', 'xref_src_db': 'Pfam'}, {'xref_id': 'PF00051', 'xref_name': 'Kringle', 'xref_src_db': 'Pfam'}, {'xref_id': 'PF09396', 'xref_name': 'Thrombin_light', 'xref_src_db': 'Pfam'}, {'xref_id': 'PF00089', 'xref_name': 'Trypsin', 'xref_src_db': 'Pfam'}, {'xref_id': 'PA157', 'xref_name': 'coagulation factor II, thrombin', 'xref_src_db': 'PharmGKB'}]}], 'target_type': 'SINGLE PROTEIN', 'tax_id': 9606}\n",
            "Found target: Prothrombin (CHEMBL204)\n",
            "Raw activities object from API after filtering: [{'canonical_smiles': 'N=C(N)N1CCC[C@H](NC(=O)CNC(=O)[C@@H](CCNC(=O)c2ccc3ccccc3n2)NS(=O)(=O)Cc2ccccc2)C1O', 'molecule_chembl_id': 'CHEMBL117716', 'pchembl_value': '5.90', 'target_chembl_id': 'CHEMBL204', 'value': '1270.0'}, {'canonical_smiles': 'CC(=N)N1CCC(Oc2ccc3nc(CCC(=O)O)n(Cc4ccc5ccc(C(=N)N)cc5c4)c3c2)CC1', 'molecule_chembl_id': 'CHEMBL369583', 'pchembl_value': '5.57', 'target_chembl_id': 'CHEMBL204', 'value': '2670.0'}, {'canonical_smiles': 'CC(=N)N1CCC(Oc2ccc3c(c2)nc(C(C)C)n3Cc2ccc3ccc(C(=N)N)cc3c2)CC1', 'molecule_chembl_id': 'CHEMBL176744', 'pchembl_value': '6.06', 'target_chembl_id': 'CHEMBL204', 'value': '870.0'}, {'canonical_smiles': 'CCC(C)c1nc2cc(OC3CCN(C(C)=N)CC3)ccc2n1Cc1ccc2ccc(C(=N)N)cc2c1', 'molecule_chembl_id': 'CHEMBL367476', 'pchembl_value': '5.64', 'target_chembl_id': 'CHEMBL204', 'value': '2300.0'}, '...(remaining elements truncated)...']\n",
            "--- Raw Filtered ChEMBL Data (N=6412) ---\n",
            "\n",
            "--- Missing values in df_raw ---\n",
            "canonical_smiles      1\n",
            "molecule_chembl_id    0\n",
            "pchembl_value         0\n",
            "target_chembl_id      0\n",
            "value                 0\n",
            "dtype: int64\n",
            "-----------------------------\n",
            "\n",
            "--- Final Curated Data (N=5547) ---\n",
            "Positive Interactions (Active, label=1): 3263\n"
          ]
        }
      ]
    },
    {
      "cell_type": "markdown",
      "source": [
        "Step 3: Set Random Seeds for Reproducibilit"
      ],
      "metadata": {
        "id": "C8q7uKpzHVIG"
      }
    },
    {
      "cell_type": "code",
      "source": [
        "import random\n",
        "import numpy as np\n",
        "import torch\n",
        "import dgl\n",
        "def set_seed(seed=42):\n",
        "\"\"\"\n",
        "Set random seeds for reproducibility across all libraries.\n",
        "Critical for ensuring deterministic results.\n",
        "\"\"\"\n",
        "random.seed(seed)\n",
        "Step 2: Install Required Dependencies\n",
        "Step 3: Set Random Seeds for Reproducibility\n",
        "np.random.seed(seed)\n",
        "torch.manual_seed(seed)\n",
        "torch.cuda.manual_seed(seed)\n",
        "torch.cuda.manual_seed_all(seed)\n",
        "torch.backends.cudnn.deterministic = True\n",
        "torch.backends.cudnn.benchmark = False\n",
        "dgl.seed(seed)\n",
        "dgl.random.seed(seed)\n",
        "os.environ['PYTHONHASHSEED'] = str(seed)\n",
        "print(f\"✓ Random seed set to {seed} for reproducibility\")\n",
        "# Apply seed\n",
        "RANDOM_SEED = 42\n",
        "set_seed(RANDOM_SEED)"
      ],
      "metadata": {
        "colab": {
          "base_uri": "https://localhost:8080/"
        },
        "id": "mqX_DYOL53KK",
        "outputId": "640b1fb8-0b5a-49c6-e3a4-1d20c2de181f"
      },
      "execution_count": null,
      "outputs": [
        {
          "output_type": "stream",
          "name": "stdout",
          "text": [
            "\n",
            "Scaffold Split Results:\n",
            "Test Set Size: 1122 (20.23%)\n",
            "Shared Scaffolds (must be 0): 0\n"
          ]
        }
      ]
    },
    {
      "cell_type": "markdown",
      "source": [
        "Phase I: Integrated EDA and dataset splits for ChEMBL, DrugBank, and GDSC"
      ],
      "metadata": {
        "id": "3ocfakCPHphA"
      }
    },
    {
      "cell_type": "markdown",
      "source": [
        "Project initialization and dependencies"
      ],
      "metadata": {
        "id": "zhrGMgJlHuWp"
      }
    },
    {
      "cell_type": "code",
      "source": [
        "# Minimal dependencies required for Phase I across all three datasets\n",
        "import sys, subprocess, os\n",
        "\n",
        "def pip_install(pkgs):\n",
        "    for p in pkgs:\n",
        "        print(f\"Installing {p} ...\")\n",
        "        subprocess.check_call([sys.executable, \"-m\", \"pip\", \"install\", \"-q\", p])\n",
        "\n",
        "pip_install([\n",
        "    \"pandas==2.0.3\",\n",
        "    \"numpy==1.24.3\",\n",
        "    \"matplotlib==3.8.0\",\n",
        "    \"seaborn==0.13.0\",\n",
        "    \"scikit-learn==1.3.0\",\n",
        "    \"tqdm==4.66.1\",\n",
        "    \"rdkit-pypi\",\n",
        "    \"chembl_webresource_client\",\n",
        "    \"requests\"\n",
        "])\n",
        "\n",
        "# Use your existing project root if already created in setup\n",
        "PROJECT_DIR = \"/content/DDLS_Drug_Repurposing\"\n",
        "os.makedirs(PROJECT_DIR, exist_ok=True)\n",
        "os.chdir(PROJECT_DIR)\n",
        "\n",
        "for d in [\"data/raw\", \"data/processed\", \"results/figures\", \"results/metrics\", \"logs\"]:\n",
        "    os.makedirs(d, exist_ok=True)\n",
        "\n",
        "print(\"Working directory:\", os.getcwd())"
      ],
      "metadata": {
        "id": "QyJrE9w8HslC"
      },
      "execution_count": null,
      "outputs": []
    },
    {
      "cell_type": "code",
      "source": [
        "# Common imports, reproducibility, and plotting helpers\n",
        "import random\n",
        "import numpy as np\n",
        "import pandas as pd\n",
        "import matplotlib.pyplot as plt\n",
        "import seaborn as sns\n",
        "from tqdm import tqdm\n",
        "import warnings\n",
        "warnings.filterwarnings(\"ignore\")\n",
        "\n",
        "def set_seed(seed=42):\n",
        "    random.seed(seed)\n",
        "    np.random.seed(seed)\n",
        "    print(f\"Random seed set to {seed}\")\n",
        "\n",
        "set_seed(42)\n",
        "\n",
        "sns.set(style=\"whitegrid\", context=\"notebook\")\n",
        "plt.rcParams[\"figure.dpi\"] = 120\n",
        "\n",
        "def save_fig(path):\n",
        "    plt.tight_layout()\n",
        "    plt.savefig(path, dpi=300, bbox_inches=\"tight\")\n",
        "    print(f\"Saved figure: {path}\")"
      ],
      "metadata": {
        "id": "Nc3rOqjdK7DX"
      },
      "execution_count": null,
      "outputs": []
    },
    {
      "cell_type": "markdown",
      "source": [
        "ChEMBL dataset: acquisition, preprocessing, EDA, splits, and outputs"
      ],
      "metadata": {
        "id": "8vJYPRYeLA1W"
      }
    },
    {
      "cell_type": "code",
      "source": [
        "# ChEMBL data acquisition and preprocessing for a single target (EGFR)\n",
        "from chembl_webresource_client.new_client import new_client\n",
        "from rdkit import Chem\n",
        "from rdkit.Chem.Scaffolds import MurckoScaffold\n",
        "\n",
        "TARGET_ID = \"CHEMBL203\"         # EGFR\n",
        "PCHEMBL_THRESHOLD = 5.0         # active label threshold\n",
        "\n",
        "def chembl_fetch_bioactivities(target_chembl_id: str) -> pd.DataFrame:\n",
        "    print(f\"Querying ChEMBL for binding assays: target={target_chembl_id} ...\")\n",
        "    df = pd.DataFrame.from_records(list(new_client.activity.filter(\n",
        "        target_chembl_id=target_chembl_id,\n",
        "        assay_type='B'\n",
        "    )))\n",
        "    print(f\"Fetched records: {len(df)}\")\n",
        "    return df\n",
        "\n",
        "def chembl_preprocess(df: pd.DataFrame, pchembl_threshold=PCHEMBL_THRESHOLD) -> pd.DataFrame:\n",
        "    print(\"Preprocessing ChEMBL bioactivities ...\")\n",
        "    cols = [\n",
        "        \"molecule_chembl_id\", \"canonical_smiles\", \"standard_type\", \"standard_units\",\n",
        "        \"standard_value\", \"pchembl_value\", \"target_chembl_id\", \"target_pref_name\"\n",
        "    ]\n",
        "    cols = [c for c in cols if c in df.columns]\n",
        "    df = df[cols].copy()\n",
        "\n",
        "    df = df.dropna(subset=[\"canonical_smiles\", \"pchembl_value\"])\n",
        "    print(f\"After NA drop: {len(df)} rows\")\n",
        "\n",
        "    valid_mask = []\n",
        "    for s in tqdm(df[\"canonical_smiles\"], desc=\"Validating SMILES\"):\n",
        "        valid_mask.append(Chem.MolFromSmiles(s) is not None)\n",
        "    df = df.loc[valid_mask].reset_index(drop=True)\n",
        "    print(f\"Valid SMILES rows: {len(df)}\")\n",
        "\n",
        "    df[\"label\"] = (df[\"pchembl_value\"] >= pchembl_threshold).astype(int)\n",
        "    df = df.drop_duplicates(subset=[\"canonical_smiles\", \"target_chembl_id\"]).reset_index(drop=True)\n",
        "\n",
        "    n_act = df[\"label\"].sum()\n",
        "    n_tot = len(df)\n",
        "    print(f\"Active: {n_act} ({n_act/n_tot:.2%}); Inactive: {n_tot - n_act}\")\n",
        "    return df\n",
        "\n",
        "chembl_raw = chembl_fetch_bioactivities(TARGET_ID)\n",
        "chembl_df = chembl_preprocess(chembl_raw)\n",
        "chembl_out = \"data/processed/chembl_egfr_processed.csv\"\n",
        "chembl_df.to_csv(chembl_out, index=False)\n",
        "print(\"Saved:\", chembl_out)\n",
        "chembl_df.head()"
      ],
      "metadata": {
        "id": "aWS7-rTwLBo0"
      },
      "execution_count": null,
      "outputs": []
    },
    {
      "cell_type": "code",
      "source": [
        "# ChEMBL EDA: overall distributions\n",
        "print(\"ChEMBL shape:\", chembl_df.shape)\n",
        "print(\"Columns:\", chembl_df.columns.tolist())\n",
        "print(\"\\nMissing values:\\n\", chembl_df.isna().sum().sort_values(ascending=False))\n",
        "\n",
        "# Label distribution\n",
        "plt.figure(figsize=(5, 4))\n",
        "sns.countplot(x=\"label\", data=chembl_df, palette=\"Set2\")\n",
        "plt.title(\"ChEMBL: Active vs Inactive (overall)\")\n",
        "plt.xlabel(\"Label (1=Active, 0=Inactive)\")\n",
        "plt.ylabel(\"Count\")\n",
        "save_fig(\"results/figures/chembl_labels_overall.png\")\n",
        "plt.show()\n",
        "\n",
        "# pChEMBL histogram\n",
        "if \"pchembl_value\" in chembl_df.columns:\n",
        "    plt.figure(figsize=(6, 4))\n",
        "    sns.histplot(chembl_df[\"pchembl_value\"], bins=30, kde=True, color=\"#4C72B0\")\n",
        "    plt.axvline(PCHEMBL_THRESHOLD, color=\"red\", linestyle=\"--\", label=f\"Threshold={PCHEMBL_THRESHOLD}\")\n",
        "    plt.title(\"ChEMBL: pChEMBL distribution (overall)\")\n",
        "    plt.xlabel(\"pChEMBL\")\n",
        "    plt.legend()\n",
        "    save_fig(\"results/figures/chembl_pchembl_overall.png\")\n",
        "    plt.show()\n",
        "\n",
        "# Standard value distribution if present\n",
        "if \"standard_value\" in chembl_df.columns:\n",
        "    plt.figure(figsize=(6, 4))\n",
        "    sns.histplot(chembl_df[\"standard_value\"].dropna(), bins=40, kde=True, color=\"#55A868\")\n",
        "    plt.title(\"ChEMBL: standard_value distribution\")\n",
        "    save_fig(\"results/figures/chembl_standard_value_overall.png\")\n",
        "    plt.show()\n",
        "\n",
        "# Top standard types\n",
        "if \"standard_type\" in chembl_df.columns:\n",
        "    plt.figure(figsize=(8, 4))\n",
        "    top_types = chembl_df[\"standard_type\"].value_counts().head(10)\n",
        "    sns.barplot(x=top_types.index, y=top_types.values, palette=\"Set3\")\n",
        "    plt.xticks(rotation=45, ha=\"right\")\n",
        "    plt.title(\"ChEMBL: top 10 standard_type\")\n",
        "    save_fig(\"results/figures/chembl_standard_type_top10.png\")\n",
        "    plt.show()"
      ],
      "metadata": {
        "id": "KL8SagY-LFtd"
      },
      "execution_count": null,
      "outputs": []
    },
    {
      "cell_type": "code",
      "source": [
        "# ChEMBL splits: stratified random split + scaffold-aware split\n",
        "from sklearn.model_selection import train_test_split\n",
        "\n",
        "X_smiles = chembl_df[\"canonical_smiles\"].values\n",
        "y_labels = chembl_df[\"label\"].values\n",
        "train_size, val_size, test_size = 0.8, 0.1, 0.1\n",
        "\n",
        "# Stratified split\n",
        "X_train, X_hold, y_train, y_hold = train_test_split(\n",
        "    X_smiles, y_labels, test_size=(1 - train_size), random_state=42, stratify=y_labels\n",
        ")\n",
        "val_ratio = val_size / (val_size + test_size)\n",
        "X_val, X_test, y_val, y_test = train_test_split(\n",
        "    X_hold, y_hold, test_size=(1 - val_ratio), random_state=42, stratify=y_hold\n",
        ")\n",
        "\n",
        "df_c_train = chembl_df.loc[chembl_df[\"canonical_smiles\"].isin(X_train)].copy()\n",
        "df_c_val   = chembl_df.loc[chembl_df[\"canonical_smiles\"].isin(X_val)].copy()\n",
        "df_c_test  = chembl_df.loc[chembl_df[\"canonical_smiles\"].isin(X_test)].copy()\n",
        "\n",
        "df_c_train.to_csv(\"data/processed/chembl_train_stratified.csv\", index=False)\n",
        "df_c_val.to_csv(\"data/processed/chembl_val_stratified.csv\", index=False)\n",
        "df_c_test.to_csv(\"data/processed/chembl_test_stratified.csv\", index=False)\n",
        "print(\"ChEMBL stratified split saved.\")\n",
        "\n",
        "# Scaffold split\n",
        "def scaffold(smiles: str):\n",
        "    try:\n",
        "        mol = Chem.MolFromSmiles(smiles)\n",
        "        if mol is None: return None\n",
        "        return Chem.MolToSmiles(MurckoScaffold.GetScaffoldForMol(mol))\n",
        "    except:\n",
        "        return None\n",
        "\n",
        "scaf_to_idx = {}\n",
        "for i, s in enumerate(X_smiles):\n",
        "    sc = scaffold(s)\n",
        "    scaf_to_idx.setdefault(sc, []).append(i)\n",
        "\n",
        "scaffolds = list(scaf_to_idx.keys())\n",
        "sizes = [len(scaf_to_idx[s]) for s in scaffolds]\n",
        "order = np.argsort(sizes)[::-1]\n",
        "\n",
        "N = len(X_smiles)\n",
        "train_lim = int(train_size * N)\n",
        "val_lim = int(val_size * N)\n",
        "\n",
        "train_idx, val_idx, test_idx = [], [], []\n",
        "for k in order:\n",
        "    grp = scaf_to_idx[scaffolds[k]]\n",
        "    if len(train_idx) + len(grp) <= train_lim:\n",
        "        train_idx.extend(grp)\n",
        "    elif len(val_idx) + len(grp) <= val_lim:\n",
        "        val_idx.extend(grp)\n",
        "    else:\n",
        "        test_idx.extend(grp)\n",
        "\n",
        "rng = np.random.default_rng(42)\n",
        "rng.shuffle(train_idx); rng.shuffle(val_idx); rng.shuffle(test_idx)\n",
        "\n",
        "df_c_sc_train = chembl_df.iloc[train_idx].copy()\n",
        "df_c_sc_val   = chembl_df.iloc[val_idx].copy()\n",
        "df_c_sc_test  = chembl_df.iloc[test_idx].copy()\n",
        "\n",
        "df_c_sc_train.to_csv(\"data/processed/chembl_train_scaffold.csv\", index=False)\n",
        "df_c_sc_val.to_csv(\"data/processed/chembl_val_scaffold.csv\", index=False)\n",
        "df_c_sc_test.to_csv(\"data/processed/chembl_test_scaffold.csv\", index=False)\n",
        "print(\"ChEMBL scaffold split saved.\")\n",
        "\n",
        "# Per-split visualizations\n",
        "def plot_labels_per_split(df_train, df_val, df_test, name):\n",
        "    plt.figure(figsize=(6, 4))\n",
        "    data = pd.DataFrame({\n",
        "        \"split\": [\"train\",\"train\",\"val\",\"val\",\"test\",\"test\"],\n",
        "        \"label\": [0,1,0,1,0,1],\n",
        "        \"count\": [\n",
        "            (df_train[\"label\"]==0).sum(), (df_train[\"label\"]==1).sum(),\n",
        "            (df_val[\"label\"]==0).sum(),   (df_val[\"label\"]==1).sum(),\n",
        "            (df_test[\"label\"]==0).sum(),  (df_test[\"label\"]==1).sum(),\n",
        "        ]\n",
        "    })\n",
        "    sns.barplot(data=data, x=\"split\", y=\"count\", hue=\"label\", palette=\"Set2\")\n",
        "    plt.title(f\"{name}: label distribution per split\")\n",
        "    save_fig(f\"results/figures/{name}_labels_per_split.png\")\n",
        "    plt.show()\n",
        "\n",
        "def plot_pchembl_per_split(df_train, df_val, df_test, name):\n",
        "    if \"pchembl_value\" not in df_train.columns: return\n",
        "    fig, axes = plt.subplots(1, 3, figsize=(12, 3.5), sharey=True)\n",
        "    sns.histplot(df_train[\"pchembl_value\"], bins=30, kde=True, ax=axes[0], color=\"#4C72B0\")\n",
        "    axes[0].axvline(PCHEMBL_THRESHOLD, color=\"red\", linestyle=\"--\")\n",
        "    axes[0].set_title(\"Train\")\n",
        "    sns.histplot(df_val[\"pchembl_value\"], bins=30, kde=True, ax=axes[1], color=\"#55A868\")\n",
        "    axes[1].axvline(PCHEMBL_THRESHOLD, color=\"red\", linestyle=\"--\")\n",
        "    axes[1].set_title(\"Val\")\n",
        "    sns.histplot(df_test[\"pchembl_value\"], bins=30, kde=True, ax=axes[2], color=\"#C44E52\")\n",
        "    axes[2].axvline(PCHEMBL_THRESHOLD, color=\"red\", linestyle=\"--\")\n",
        "    axes[2].set_title(\"Test\")\n",
        "    for ax in axes:\n",
        "        ax.set_xlabel(\"pChEMBL\"); ax.set_ylabel(\"Frequency\")\n",
        "    plt.suptitle(f\"{name}: pChEMBL distributions per split\", y=1.02)\n",
        "    save_fig(f\"results/figures/{name}_pchembl_per_split.png\")\n",
        "    plt.show()\n",
        "\n",
        "# Stratified visuals\n",
        "plot_labels_per_split(df_c_train, df_c_val, df_c_test, \"chembl_stratified\")\n",
        "plot_pchembl_per_split(df_c_train, df_c_val, df_c_test, \"chembl_stratified\")\n",
        "\n",
        "# Scaffold visuals\n",
        "plot_labels_per_split(df_c_sc_train, df_c_sc_val, df_c_sc_test, \"chembl_scaffold\")\n",
        "plot_pchembl_per_split(df_c_sc_train, df_c_sc_val, df_c_sc_test, \"chembl_scaffold\")"
      ],
      "metadata": {
        "id": "aK2De23LLIZ4"
      },
      "execution_count": null,
      "outputs": []
    },
    {
      "cell_type": "markdown",
      "source": [
        "DrugBank dataset: ingestion, EDA, and outputs"
      ],
      "metadata": {
        "id": "58V7YTiQLDbZ"
      }
    },
    {
      "cell_type": "code",
      "source": [
        "# DrugBank ingestion\n",
        "# Assumption: You have a CSV/TSV exported file with basic fields.\n",
        "# Update this path to your actual file:\n",
        "DRUGBANK_PATH = \"data/raw/drugbank.csv\"  # e.g., contains columns like: name, drug_type, molecular_weight, targets, smiles\n",
        "\n",
        "if not os.path.exists(DRUGBANK_PATH):\n",
        "    print(f\"WARNING: {DRUGBANK_PATH} not found. Please upload your DrugBank CSV to this path.\")\n",
        "else:\n",
        "    drugbank_df = pd.read_csv(DRUGBANK_PATH)\n",
        "    print(\"DrugBank shape:\", drugbank_df.shape)\n",
        "    print(drugbank_df.head())\n",
        "\n",
        "    # Basic cleaning: drop obvious duplicates by SMILES/name if available\n",
        "    key_cols = [c for c in [\"smiles\", \"name\"] if c in drugbank_df.columns]\n",
        "    if key_cols:\n",
        "        drugbank_df = drugbank_df.drop_duplicates(subset=key_cols).reset_index(drop=True)\n",
        "\n",
        "    # Missing values report\n",
        "    print(\"\\nDrugBank missing values:\\n\", drugbank_df.isna().sum().sort_values(ascending=False).head(20))\n",
        "\n",
        "    # Drug type distribution\n",
        "    if \"drug_type\" in drugbank_df.columns:\n",
        "        plt.figure(figsize=(8, 4))\n",
        "        drugbank_df[\"drug_type\"].value_counts().plot(kind=\"bar\", color=\"#4C72B0\")\n",
        "        plt.title(\"DrugBank: drug_type distribution\")\n",
        "        plt.ylabel(\"Count\")\n",
        "        save_fig(\"results/figures/drugbank_drug_type.png\")\n",
        "        plt.show()\n",
        "\n",
        "    # Molecular weight histogram\n",
        "    if \"molecular_weight\" in drugbank_df.columns:\n",
        "        plt.figure(figsize=(6, 4))\n",
        "        sns.histplot(drugbank_df[\"molecular_weight\"].dropna(), bins=50, kde=True, color=\"#55A868\")\n",
        "        plt.title(\"DrugBank: molecular weight distribution\")\n",
        "        save_fig(\"results/figures/drugbank_mw.png\")\n",
        "        plt.show()\n",
        "\n",
        "    # Number of targets per drug\n",
        "    if \"targets\" in drugbank_df.columns:\n",
        "        tmp = drugbank_df[\"targets\"].fillna(\"\").astype(str)\n",
        "        drugbank_df[\"n_targets\"] = tmp.apply(lambda x: 0 if x.strip()==\"\" else len([t for t in x.split(\";\") if t]))\n",
        "        plt.figure(figsize=(6, 4))\n",
        "        sns.histplot(drugbank_df[\"n_targets\"], bins=30, color=\"#C44E52\")\n",
        "        plt.title(\"DrugBank: number of targets per drug\")\n",
        "        save_fig(\"results/figures/drugbank_n_targets.png\")\n",
        "        plt.show()\n",
        "\n",
        "    # Save processed\n",
        "    drugbank_out = \"data/processed/drugbank_processed.csv\"\n",
        "    drugbank_df.to_csv(drugbank_out, index=False)\n",
        "    print(\"Saved:\", drugbank_out)"
      ],
      "metadata": {
        "id": "XEu_HrL0LYIm"
      },
      "execution_count": null,
      "outputs": []
    },
    {
      "cell_type": "code",
      "source": [
        "# -------------------------------\n",
        "# DrugBank supervised proxy task\n",
        "# -------------------------------\n",
        "\n",
        "if 'drugbank_df' in globals() and 'mechanisms' in drugbank_df.columns:\n",
        "    # 定义二分类标签：是否为 inhibitor\n",
        "    drugbank_df['label'] = drugbank_df['mechanisms'].fillna(\"\").str.lower().apply(\n",
        "        lambda x: 1 if \"inhibitor\" in x else 0\n",
        "    )\n",
        "\n",
        "    print(\"DrugBank proxy labels created.\")\n",
        "    print(drugbank_df['label'].value_counts())\n",
        "\n",
        "    # Stratified split\n",
        "    from sklearn.model_selection import train_test_split\n",
        "\n",
        "    X = drugbank_df.drop(columns=['label'])\n",
        "    y = drugbank_df['label']\n",
        "\n",
        "    X_train, X_hold, y_train, y_hold = train_test_split(\n",
        "        X, y, test_size=0.2, random_state=42, stratify=y\n",
        "    )\n",
        "    X_val, X_test, y_val, y_test = train_test_split(\n",
        "        X_hold, y_hold, test_size=0.5, random_state=42, stratify=y_hold\n",
        "    )\n",
        "\n",
        "    df_db_train = drugbank_df.iloc[X_train.index].copy()\n",
        "    df_db_val   = drugbank_df.iloc[X_val.index].copy()\n",
        "    df_db_test  = drugbank_df.iloc[X_test.index].copy()\n",
        "\n",
        "    # 保存\n",
        "    df_db_train.to_csv(\"data/processed/drugbank_train_stratified.csv\", index=False)\n",
        "    df_db_val.to_csv(\"data/processed/drugbank_val_stratified.csv\", index=False)\n",
        "    df_db_test.to_csv(\"data/processed/drugbank_test_stratified.csv\", index=False)\n",
        "    print(\"DrugBank stratified split saved.\")\n",
        "\n",
        "    # 可视化标签分布\n",
        "    import seaborn as sns\n",
        "    import matplotlib.pyplot as plt\n",
        "\n",
        "    def plot_db_split(df_train, df_val, df_test, name=\"drugbank\"):\n",
        "        plt.figure(figsize=(6,4))\n",
        "        data = pd.DataFrame({\n",
        "            \"split\":[\"train\",\"train\",\"val\",\"val\",\"test\",\"test\"],\n",
        "            \"label\":[0,1,0,1,0,1],\n",
        "            \"count\":[\n",
        "                (df_train['label']==0).sum(), (df_train['label']==1).sum(),\n",
        "                (df_val['label']==0).sum(),   (df_val['label']==1).sum(),\n",
        "                (df_test['label']==0).sum(),  (df_test['label']==1).sum(),\n",
        "            ]\n",
        "        })\n",
        "        sns.barplot(data=data, x=\"split\", y=\"count\", hue=\"label\", palette=\"Set2\")\n",
        "        plt.title(f\"{name}: label distribution per split\")\n",
        "        save_fig(f\"results/figures/{name}_labels_per_split.png\")\n",
        "        plt.show()\n",
        "\n",
        "    plot_db_split(df_db_train, df_db_val, df_db_test)"
      ],
      "metadata": {
        "id": "eK_eoKntPkeh"
      },
      "execution_count": null,
      "outputs": []
    },
    {
      "cell_type": "markdown",
      "source": [
        "GDSC dataset: download, preprocessing, EDA, splits, and outputs"
      ],
      "metadata": {
        "id": "sIpCJ2eeLcMK"
      }
    },
    {
      "cell_type": "code",
      "source": [
        "# GDSC download and EDA\n",
        "import requests\n",
        "from io import StringIO\n",
        "\n",
        "GDSC_URL = \"https://www.cancerrxgene.org/gdsc1000/GDSC1_fitted_dose_response.csv\"\n",
        "print(\"Downloading GDSC1 fitted dose-response (CSV) ...\")\n",
        "r = requests.get(GDSC_URL, timeout=60)\n",
        "gdsc_df = pd.read_csv(StringIO(r.text))\n",
        "print(\"GDSC shape:\", gdsc_df.shape)\n",
        "gdsc_df.head()"
      ],
      "metadata": {
        "id": "fOaEGlptLdfm"
      },
      "execution_count": null,
      "outputs": []
    },
    {
      "cell_type": "code",
      "source": [
        "# GDSC preprocessing\n",
        "# Keep key columns; create sensitivity label from LN_IC50\n",
        "keep = [c for c in [\"DRUG_ID\", \"DRUG_NAME\", \"CELL_LINE_NAME\", \"COSMIC_ID\", \"LN_IC50\", \"AUC\", \"RMSE\"] if c in gdsc_df.columns]\n",
        "gdsc_df = gdsc_df[keep].copy()\n",
        "gdsc_df = gdsc_df.dropna(subset=[\"LN_IC50\"]).reset_index(drop=True)\n",
        "\n",
        "SENS_THRESH = 2.0\n",
        "gdsc_df[\"sensitive\"] = (gdsc_df[\"LN_IC50\"] < SENS_THRESH).astype(int)\n",
        "\n",
        "print(\"GDSC rows after preprocessing:\", len(gdsc_df))\n",
        "print(\"Sensitive ratio:\", gdsc_df[\"sensitive\"].mean())\n",
        "\n",
        "gdsc_out = \"data/processed/gdsc_processed.csv\"\n",
        "gdsc_df.to_csv(gdsc_out, index=False)\n",
        "print(\"Saved:\", gdsc_out)"
      ],
      "metadata": {
        "id": "I27pkNZFLhTF"
      },
      "execution_count": null,
      "outputs": []
    },
    {
      "cell_type": "code",
      "source": [
        "# GDSC EDA\n",
        "print(\"\\nMissing values:\\n\", gdsc_df.isna().sum().sort_values(ascending=False).head(20))\n",
        "print(\"Unique drugs:\", gdsc_df[\"DRUG_NAME\"].nunique() if \"DRUG_NAME\" in gdsc_df.columns else \"N/A\")\n",
        "print(\"Unique cell lines:\", gdsc_df[\"CELL_LINE_NAME\"].nunique() if \"CELL_LINE_NAME\" in gdsc_df.columns else \"N/A\")\n",
        "\n",
        "# LN_IC50 distribution\n",
        "plt.figure(figsize=(6,4))\n",
        "sns.histplot(gdsc_df[\"LN_IC50\"], bins=50, kde=True, color=\"#4C72B0\")\n",
        "plt.title(\"GDSC: LN(IC50) distribution\")\n",
        "plt.xlabel(\"LN(IC50)\")\n",
        "save_fig(\"results/figures/gdsc_ln_ic50.png\")\n",
        "plt.show()\n",
        "\n",
        "# AUC distribution\n",
        "if \"AUC\" in gdsc_df.columns:\n",
        "    plt.figure(figsize=(6,4))\n",
        "    sns.histplot(gdsc_df[\"AUC\"].dropna(), bins=50, kde=True, color=\"#55A868\")\n",
        "    plt.title(\"GDSC: AUC distribution\")\n",
        "    plt.xlabel(\"AUC\")\n",
        "    save_fig(\"results/figures/gdsc_auc.png\")\n",
        "    plt.show()\n",
        "\n",
        "# Sensitive vs not\n",
        "plt.figure(figsize=(5,4))\n",
        "sns.countplot(x=\"sensitive\", data=gdsc_df, palette=\"Set2\")\n",
        "plt.title(\"GDSC: label distribution (sensitive)\")\n",
        "save_fig(\"results/figures/gdsc_sensitive_overall.png\")\n",
        "plt.show()\n",
        "\n",
        "# Top drugs by tested cell lines\n",
        "if \"DRUG_NAME\" in gdsc_df.columns:\n",
        "    top_drugs = gdsc_df[\"DRUG_NAME\"].value_counts().head(20)\n",
        "    plt.figure(figsize=(9,4))\n",
        "    sns.barplot(x=top_drugs.index, y=top_drugs.values, palette=\"Set3\")\n",
        "    plt.xticks(rotation=90)\n",
        "    plt.title(\"GDSC: top 20 drugs by number of tested cell lines\")\n",
        "    save_fig(\"results/figures/gdsc_top_drugs.png\")\n",
        "    plt.show()"
      ],
      "metadata": {
        "id": "DKKnDH-4Ljx_"
      },
      "execution_count": null,
      "outputs": []
    },
    {
      "cell_type": "code",
      "source": [
        "# GDSC splits (stratified)\n",
        "from sklearn.model_selection import train_test_split\n",
        "\n",
        "X = gdsc_df[[\"DRUG_NAME\", \"CELL_LINE_NAME\"]] if \"DRUG_NAME\" in gdsc_df.columns and \"CELL_LINE_NAME\" in gdsc_df.columns else gdsc_df[[\"LN_IC50\"]]\n",
        "y = gdsc_df[\"sensitive\"]\n",
        "\n",
        "X_train, X_hold, y_train, y_hold = train_test_split(X, y, test_size=0.2, random_state=42, stratify=y)\n",
        "X_val, X_test, y_val, y_test = train_test_split(X_hold, y_hold, test_size=0.5, random_state=42, stratify=y_hold)\n",
        "\n",
        "df_g_train = gdsc_df.iloc[X_train.index].copy()\n",
        "df_g_val   = gdsc_df.iloc[X_val.index].copy()\n",
        "df_g_test  = gdsc_df.iloc[X_test.index].copy()\n",
        "\n",
        "df_g_train.to_csv(\"data/processed/gdsc_train_stratified.csv\", index=False)\n",
        "df_g_val.to_csv(\"data/processed/gdsc_val_stratified.csv\", index=False)\n",
        "df_g_test.to_csv(\"data/processed/gdsc_test_stratified.csv\", index=False)\n",
        "print(\"GDSC stratified split saved.\")\n",
        "\n",
        "# Per-split label bars\n",
        "def plot_binary_split_bars(df_train, df_val, df_test, label_col, name):\n",
        "    plt.figure(figsize=(6,4))\n",
        "    data = pd.DataFrame({\n",
        "        \"split\":[\"train\",\"train\",\"val\",\"val\",\"test\",\"test\"],\n",
        "        \"label\":[0,1,0,1,0,1],\n",
        "        \"count\":[\n",
        "            (df_train[label_col]==0).sum(), (df_train[label_col]==1).sum(),\n",
        "            (df_val[label_col]==0).sum(),   (df_val[label_col]==1).sum(),\n",
        "            (df_test[label_col]==0).sum(),  (df_test[label_col]==1).sum(),\n",
        "        ]\n",
        "    })\n",
        "    sns.barplot(data=data, x=\"split\", y=\"count\", hue=\"label\", palette=\"Set2\")\n",
        "    plt.title(f\"{name}: label distribution per split\")\n",
        "    save_fig(f\"results/figures/{name}_labels_per_split.png\")\n",
        "    plt.show()\n",
        "\n",
        "plot_binary_split_bars(df_g_train, df_g_val, df_g_test, \"sensitive\", \"gdsc_stratified\")"
      ],
      "metadata": {
        "id": "KEpMc4LjLmn_"
      },
      "execution_count": null,
      "outputs": []
    },
    {
      "cell_type": "markdown",
      "source": [
        "Consolidated summary and Phase I checklist"
      ],
      "metadata": {
        "id": "XwGYLQaQLq-W"
      }
    },
    {
      "cell_type": "code",
      "source": [
        "# Summaries for ChEMBL splits\n",
        "def summarize(df, label_col, split_name, dataset_name):\n",
        "    n = len(df); n_pos = int(df[label_col].sum())\n",
        "    return {\n",
        "        \"dataset\": dataset_name,\n",
        "        \"split\": split_name,\n",
        "        \"n_samples\": n,\n",
        "        \"n_positive\": n_pos,\n",
        "        \"positive_ratio\": round(n_pos / n, 4) if n > 0 else 0.0\n",
        "    }\n",
        "\n",
        "# -------------------------------\n",
        "# Consolidated summary\n",
        "# -------------------------------\n",
        "\n",
        "summary_rows = []\n",
        "\n",
        "# ChEMBL (stratified + scaffold)\n",
        "summary_rows += [\n",
        "    summarize(df_c_train, \"label\", \"train\", \"chembl_stratified\"),\n",
        "    summarize(df_c_val,   \"label\", \"val\",   \"chembl_stratified\"),\n",
        "    summarize(df_c_test,  \"label\", \"test\",  \"chembl_stratified\"),\n",
        "    summarize(df_c_sc_train, \"label\", \"train\", \"chembl_scaffold\"),\n",
        "    summarize(df_c_sc_val,   \"label\", \"val\",   \"chembl_scaffold\"),\n",
        "    summarize(df_c_sc_test,  \"label\", \"test\",  \"chembl_scaffold\"),\n",
        "]\n",
        "\n",
        "# GDSC (stratified)\n",
        "summary_rows += [\n",
        "    summarize(df_g_train, \"sensitive\", \"train\", \"gdsc_stratified\"),\n",
        "    summarize(df_g_val,   \"sensitive\", \"val\",   \"gdsc_stratified\"),\n",
        "    summarize(df_g_test,  \"sensitive\", \"test\",  \"gdsc_stratified\"),\n",
        "]\n",
        "\n",
        "# DrugBank (proxy supervised, stratified)\n",
        "if 'df_db_train' in globals():\n",
        "    summary_rows += [\n",
        "        summarize(df_db_train, \"label\", \"train\", \"drugbank_stratified\"),\n",
        "        summarize(df_db_val,   \"label\", \"val\",   \"drugbank_stratified\"),\n",
        "        summarize(df_db_test,  \"label\", \"test\",  \"drugbank_stratified\"),\n",
        "    ]\n",
        "\n",
        "summary_df = pd.DataFrame(summary_rows)\n",
        "summary_out = \"results/metrics/phase1_summary.csv\"\n",
        "summary_df.to_csv(summary_out, index=False)\n",
        "print(\"Saved updated summary:\", summary_out)\n",
        "summary_df"
      ],
      "metadata": {
        "id": "VdAXszgDLr4-"
      },
      "execution_count": null,
      "outputs": []
    },
    {
      "cell_type": "code",
      "source": [
        "# Phase I deliverable checklist\n",
        "checks = [\n",
        "    (\"ChEMBL overall labels\", \"results/figures/chembl_labels_overall.png\"),\n",
        "    (\"ChEMBL overall pChEMBL\", \"results/figures/chembl_pchembl_overall.png\"),\n",
        "    (\"ChEMBL stratified label per split\", \"results/figures/chembl_stratified_labels_per_split.png\"),\n",
        "    (\"ChEMBL stratified pChEMBL per split\", \"results/figures/chembl_stratified_pchembl_per_split.png\"),\n",
        "    (\"ChEMBL scaffold label per split\", \"results/figures/chembl_scaffold_labels_per_split.png\"),\n",
        "    (\"ChEMBL scaffold pChEMBL per split\", \"results/figures/chembl_scaffold_pchembl_per_split.png\"),\n",
        "    (\"DrugBank type distribution\", \"results/figures/drugbank_drug_type.png\"),\n",
        "    (\"DrugBank molecular weight\", \"results/figures/drugbank_mw.png\"),\n",
        "    (\"DrugBank #targets\", \"results/figures/drugbank_n_targets.png\"),\n",
        "    (\"GDSC LN(IC50) histogram\", \"results/figures/gdsc_ln_ic50.png\"),\n",
        "    (\"GDSC AUC histogram\", \"results/figures/gdsc_auc.png\"),\n",
        "    (\"GDSC stratified split labels\", \"results/figures/gdsc_stratified_labels_per_split.png\"),\n",
        "    (\"Phase I summary CSV\", \"results/metrics/phase1_summary.csv\"),\n",
        "]\n",
        "\n",
        "for label, path in checks:\n",
        "    print(f\"- {label}: {'OK' if os.path.exists(path) else 'MISSING'}\")"
      ],
      "metadata": {
        "id": "J4E_wLUhLvRY"
      },
      "execution_count": null,
      "outputs": []
    },
    {
      "cell_type": "markdown",
      "source": [
        "Phase II: Model training, evaluation, and improvement"
      ],
      "metadata": {
        "id": "h2p7tNGGQ93q"
      }
    },
    {
      "cell_type": "markdown",
      "source": [
        "Baseline training (fast, reproducible): Establish a quick baseline using classical ML on Morgan fingerprints from ChEMBL (e.g., Random Forest), then extend to GDSC proxy tasks and DrugBank proxy label."
      ],
      "metadata": {
        "id": "hn0mI3XfRHFb"
      }
    },
    {
      "cell_type": "code",
      "source": [
        "# 1) Load processed ChEMBL splits (stratified)\n",
        "import pandas as pd\n",
        "from sklearn.ensemble import RandomForestClassifier\n",
        "from sklearn.metrics import roc_auc_score, average_precision_score\n",
        "from sklearn.model_selection import GridSearchCV\n",
        "from rdkit import Chem\n",
        "from rdkit.Chem import AllChem\n",
        "import numpy as np\n",
        "\n",
        "train = pd.read_csv(\"data/processed/chembl_train_stratified.csv\")\n",
        "val   = pd.read_csv(\"data/processed/chembl_val_stratified.csv\")\n",
        "test  = pd.read_csv(\"data/processed/chembl_test_stratified.csv\")\n",
        "\n",
        "def morgan_fp(smiles, radius=2, n_bits=2048):\n",
        "    v = np.zeros((len(smiles), n_bits), dtype=np.int8)\n",
        "    for i, s in enumerate(smiles):\n",
        "        mol = Chem.MolFromSmiles(s)\n",
        "        if mol:\n",
        "            fp = AllChem.GetMorganFingerprintAsBitVect(mol, radius, nBits=n_bits)\n",
        "            arr = np.zeros((n_bits,), dtype=np.int8)\n",
        "            AllChem.DataStructs.ConvertToNumpyArray(fp, arr)\n",
        "            v[i] = arr\n",
        "    return v\n",
        "\n",
        "X_train = morgan_fp(train[\"canonical_smiles\"].values)\n",
        "y_train = train[\"label\"].values\n",
        "X_val   = morgan_fp(val[\"canonical_smiles\"].values)\n",
        "y_val   = val[\"label\"].values\n",
        "X_test  = morgan_fp(test[\"canonical_smiles\"].values)\n",
        "y_test  = test[\"label\"].values\n",
        "\n",
        "# 2) Train baseline RF + tune key hyperparameters\n",
        "rf = RandomForestClassifier(n_estimators=500, max_depth=20, random_state=42, n_jobs=-1)\n",
        "rf.fit(X_train, y_train)\n",
        "val_pred = rf.predict_proba(X_val)[:, 1]\n",
        "print(\"Val ROC-AUC:\", roc_auc_score(y_val, val_pred))\n",
        "print(\"Val PR-AUC:\", average_precision_score(y_val, val_pred))\n",
        "\n",
        "# Optional: small grid search\n",
        "param_grid = {\"n_estimators\":[300,500,800], \"max_depth\":[10,20,None]}\n",
        "search = GridSearchCV(RandomForestClassifier(random_state=42, n_jobs=-1),\n",
        "                      param_grid, scoring=\"roc_auc\", cv=3, n_jobs=-1)\n",
        "search.fit(X_train, y_train)\n",
        "best = search.best_estimator_\n",
        "print(\"Best params:\", search.best_params_)\n",
        "val_pred = best.predict_proba(X_val)[:, 1]\n",
        "print(\"Val ROC-AUC (best):\", roc_auc_score(y_val, val_pred))"
      ],
      "metadata": {
        "id": "vY-ggv_tQ-4H"
      },
      "execution_count": null,
      "outputs": []
    },
    {
      "cell_type": "code",
      "source": [
        "from sklearn.metrics import precision_recall_curve, roc_curve\n",
        "import json\n",
        "\n",
        "test_pred = best.predict_proba(X_test)[:, 1]\n",
        "metrics = {\n",
        "    \"roc_auc\": roc_auc_score(y_test, test_pred),\n",
        "    \"pr_auc\": average_precision_score(y_test, test_pred)\n",
        "}\n",
        "with open(\"results/metrics/chembl_baseline_metrics.json\", \"w\") as f:\n",
        "    json.dump(metrics, f, indent=2)\n",
        "print(\"Saved:\", \"results/metrics/chembl_baseline_metrics.json\")"
      ],
      "metadata": {
        "id": "aQt5TE_wRK47"
      },
      "execution_count": null,
      "outputs": []
    },
    {
      "cell_type": "markdown",
      "source": [
        "Extension to GDSC (binary “sensitive” label) and DrugBank (proxy label)"
      ],
      "metadata": {
        "id": "mVMevjsaRN2x"
      }
    },
    {
      "cell_type": "markdown",
      "source": [
        "GDSC: Use features like LN_IC50, AUC, or simple bag-of-entities (drug name, cell line) with target encoding for a fast baseline."
      ],
      "metadata": {
        "id": "TZZruUM7ROld"
      }
    },
    {
      "cell_type": "code",
      "source": [
        "# GDSC baseline (e.g., simple numeric features)\n",
        "gdsc_train = pd.read_csv(\"data/processed/gdsc_train_stratified.csv\")\n",
        "gdsc_val   = pd.read_csv(\"data/processed/gdsc_val_stratified.csv\")\n",
        "gdsc_test  = pd.read_csv(\"data/processed/gdsc_test_stratified.csv\")\n",
        "\n",
        "feat_cols = [c for c in [\"LN_IC50\",\"AUC\",\"RMSE\"] if c in gdsc_train.columns]\n",
        "from sklearn.preprocessing import StandardScaler\n",
        "from sklearn.pipeline import Pipeline\n",
        "from sklearn.linear_model import LogisticRegression\n",
        "\n",
        "pipe = Pipeline([\n",
        "    (\"scaler\", StandardScaler()),\n",
        "    (\"clf\", LogisticRegression(max_iter=500, class_weight=\"balanced\"))\n",
        "])\n",
        "\n",
        "pipe.fit(gdsc_train[feat_cols], gdsc_train[\"sensitive\"])\n",
        "val_pred = pipe.predict_proba(gdsc_val[feat_cols])[:,1]\n",
        "print(\"GDSC Val ROC-AUC:\", roc_auc_score(gdsc_val[\"sensitive\"], val_pred))\n",
        "print(\"GDSC Val PR-AUC:\", average_precision_score(gdsc_val[\"sensitive\"], val_pred))"
      ],
      "metadata": {
        "id": "gm_zODB1ReYf"
      },
      "execution_count": null,
      "outputs": []
    },
    {
      "cell_type": "markdown",
      "source": [
        "DrugBank proxy: Use simple textual features (mechanisms, drug_type) via TF-IDF for a baseline text classifier."
      ],
      "metadata": {
        "id": "wZ6ucpW_Rlhp"
      }
    },
    {
      "cell_type": "code",
      "source": [
        "# DrugBank text proxy (mechanisms -> inhibitor label)\n",
        "db_train = pd.read_csv(\"data/processed/drugbank_train_stratified.csv\")\n",
        "db_val   = pd.read_csv(\"data/processed/drugbank_val_stratified.csv\")\n",
        "db_test  = pd.read_csv(\"data/processed/drugbank_test_stratified.csv\")\n",
        "\n",
        "from sklearn.feature_extraction.text import TfidfVectorizer\n",
        "from sklearn.linear_model import LogisticRegression\n",
        "\n",
        "tfidf = TfidfVectorizer(min_df=3, ngram_range=(1,2))\n",
        "Xtr = tfidf.fit_transform(db_train[\"mechanisms\"].fillna(\"\"))\n",
        "Xva = tfidf.transform(db_val[\"mechanisms\"].fillna(\"\"))\n",
        "Xte = tfidf.transform(db_test[\"mechanisms\"].fillna(\"\"))\n",
        "\n",
        "lr = LogisticRegression(max_iter=1000, class_weight=\"balanced\")\n",
        "lr.fit(Xtr, db_train[\"label\"])\n",
        "val_pred = lr.predict_proba(Xva)[:,1]\n",
        "print(\"DrugBank Val ROC-AUC:\", roc_auc_score(db_val[\"label\"], val_pred))\n",
        "print(\"DrugBank Val PR-AUC:\", average_precision_score(db_val[\"label\"], val_pred))"
      ],
      "metadata": {
        "id": "CGg0M98zRmOg"
      },
      "execution_count": null,
      "outputs": []
    },
    {
      "cell_type": "markdown",
      "source": [
        "Improvement loop: Ideas are class weighting, threshold tuning via PR curve, modest feature selection, scaffold split comparison for ChEMBL, early error analysis (false positives/negatives), ablations."
      ],
      "metadata": {
        "id": "mXDra4hyRrVB"
      }
    },
    {
      "cell_type": "code",
      "source": [
        "precision, recall, thresh = precision_recall_curve(y_val, val_pred)\n",
        "# Choose threshold maximizing F1\n",
        "f1 = 2 * precision * recall / (precision + recall + 1e-9)\n",
        "best_t = thresh[np.argmax(f1[:-1])]\n",
        "print(\"Best threshold by F1:\", best_t)"
      ],
      "metadata": {
        "id": "Ku2lkxMPRyUb"
      },
      "execution_count": null,
      "outputs": []
    },
    {
      "cell_type": "markdown",
      "source": [
        "Phase III: Minimal accessibility toolset (Option B, MCP-like)"
      ],
      "metadata": {
        "id": "J2INPKIUR154"
      }
    },
    {
      "cell_type": "markdown",
      "source": [
        "Create small, composable functions to load data, run inference, show results, and evaluate. Then wire them into a simple CLI or notebook widgets."
      ],
      "metadata": {
        "id": "GOI2St_NR6sW"
      }
    },
    {
      "cell_type": "code",
      "source": [
        "# tools/data_io.py-like functions (define in notebook cells or src/utils)\n",
        "import pandas as pd\n",
        "\n",
        "def load_split(dataset, split):\n",
        "    path = f\"data/processed/{dataset}_{split}_stratified.csv\"\n",
        "    return pd.read_csv(path)\n",
        "\n",
        "def load_model_artifact(dataset):\n",
        "    # For baseline demo, re-fit quickly or load from disk if saved\n",
        "    import joblib, os\n",
        "    p = f\"models/baseline/{dataset}_model.pkl\"\n",
        "    return joblib.load(p) if os.path.exists(p) else None"
      ],
      "metadata": {
        "id": "Cw9IzPJjR2ij"
      },
      "execution_count": null,
      "outputs": []
    },
    {
      "cell_type": "code",
      "source": [
        "# tools/inference.py-like functions\n",
        "def infer_chembl(model, smiles_list):\n",
        "    X = morgan_fp(smiles_list)\n",
        "    return model.predict_proba(X)[:,1]\n",
        "\n",
        "def infer_drugbank(model, mechanisms_list, tfidf):\n",
        "    X = tfidf.transform(mechanisms_list)\n",
        "    return model.predict_proba(X)[:,1]\n",
        "\n",
        "def infer_gdsc(model, df, feat_cols):\n",
        "    return model.predict_proba(df[feat_cols])[:,1]"
      ],
      "metadata": {
        "id": "nniiGgOJSBHI"
      },
      "execution_count": null,
      "outputs": []
    },
    {
      "cell_type": "code",
      "source": [
        "# tools/evaluate.py-like functions\n",
        "from sklearn.metrics import roc_auc_score, average_precision_score\n",
        "\n",
        "def evaluate_binary(y_true, y_pred, name, save_path=None):\n",
        "    m = {\"roc_auc\": roc_auc_score(y_true, y_pred),\n",
        "         \"pr_auc\": average_precision_score(y_true, y_pred)}\n",
        "    if save_path:\n",
        "        import json\n",
        "        with open(save_path, \"w\") as f: json.dump(m, f, indent=2)\n",
        "    print(f\"[{name}] ROC-AUC={m['roc_auc']:.4f} PR-AUC={m['pr_auc']:.4f}\")\n",
        "    return m"
      ],
      "metadata": {
        "id": "zzcAfy2SSDcV"
      },
      "execution_count": null,
      "outputs": []
    },
    {
      "cell_type": "markdown",
      "source": [
        "Lightweight CLI-like cell (data → model → inference → eval)\n",
        "\n",
        "Keep everything callable with 3–4 function calls; mirror computer lab styles with simple parameterization."
      ],
      "metadata": {
        "id": "Zz3ME3BZSHq2"
      }
    },
    {
      "cell_type": "code",
      "source": [
        "# Example: run end-to-end for ChEMBL\n",
        "train, val, test = load_split(\"chembl\", \"train\"), load_split(\"chembl\", \"val\"), load_split(\"chembl\", \"test\")\n",
        "Xtr, ytr = morgan_fp(train[\"canonical_smiles\"].values), train[\"label\"].values\n",
        "Xva, yva = morgan_fp(val[\"canonical_smiles\"].values), val[\"label\"].values\n",
        "\n",
        "rf = RandomForestClassifier(n_estimators=500, max_depth=20, random_state=42, n_jobs=-1).fit(Xtr, ytr)\n",
        "va_pred = rf.predict_proba(Xva)[:,1]\n",
        "evaluate_binary(yva, va_pred, \"chembl_val\", \"results/metrics/chembl_val_baseline.json\")"
      ],
      "metadata": {
        "id": "xZjxbFwySKgU"
      },
      "execution_count": null,
      "outputs": []
    }
  ]
}